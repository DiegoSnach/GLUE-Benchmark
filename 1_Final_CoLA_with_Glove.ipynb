{
  "nbformat": 4,
  "nbformat_minor": 0,
  "metadata": {
    "colab": {
      "name": "1.Final_CoLA_with_Glove.ipynb",
      "provenance": [],
      "collapsed_sections": [],
      "authorship_tag": "ABX9TyNZBIQLDnTgtpFvXDFKYdvH",
      "include_colab_link": true
    },
    "kernelspec": {
      "name": "python3",
      "display_name": "Python 3"
    },
    "accelerator": "GPU"
  },
  "cells": [
    {
      "cell_type": "markdown",
      "metadata": {
        "id": "view-in-github",
        "colab_type": "text"
      },
      "source": [
        "<a href=\"https://colab.research.google.com/github/DiegoSnach/GLUE-Benchmark/blob/master/1_Final_CoLA_with_Glove.ipynb\" target=\"_parent\"><img src=\"https://colab.research.google.com/assets/colab-badge.svg\" alt=\"Open In Colab\"/></a>"
      ]
    },
    {
      "cell_type": "code",
      "metadata": {
        "id": "ktST6Um1SaQH",
        "colab_type": "code",
        "colab": {}
      },
      "source": [
        "\n",
        "from time import time\n",
        "import pandas as pd\n",
        "import numpy as np\n",
        "import re\n",
        "import matplotlib.pyplot as plt\n",
        "import seaborn as sns\n",
        "\n",
        "from keras.preprocessing.sequence import pad_sequences\n",
        "from keras.models import Model\n",
        "from keras.layers import Input, Embedding, LSTM, Lambda\n",
        "import keras.backend as K\n",
        "from keras.optimizers import Adadelta\n",
        "from keras.callbacks import ModelCheckpoint\n",
        "import os\n",
        "import numpy as np\n",
        "\n",
        "import tensorflow as tf \n",
        "import tensorflow_hub as hub\n",
        "import tensorflow_datasets as tfds\n",
        "import matplotlib.pyplot as plt\n",
        "\n",
        "print(\"GPU is\", \"available\" if tf.config.list_physical_devices('GPU') else \"NOT AVAILABLE\")"
      ],
      "execution_count": null,
      "outputs": []
    },
    {
      "cell_type": "code",
      "metadata": {
        "id": "EPXLuuZRTndI",
        "colab_type": "code",
        "colab": {}
      },
      "source": [
        "# if `batch_size=-1`, will return the full dataset as `tf.tensor`s. ABSOLUTELY FUNDAMENTAL!\n",
        "\n",
        "train_data, validation_data = tfds.load(name='glue/cola', split=['train', 'validation'], batch_size=-1)"
      ],
      "execution_count": null,
      "outputs": []
    },
    {
      "cell_type": "code",
      "metadata": {
        "id": "N7Wnyu-PCie4",
        "colab_type": "code",
        "colab": {
          "base_uri": "https://localhost:8080/",
          "height": 34
        },
        "outputId": "46e5b710-2204-43e9-f9fe-a276cb846e21"
      },
      "source": [
        "train_data.keys()"
      ],
      "execution_count": 3,
      "outputs": [
        {
          "output_type": "execute_result",
          "data": {
            "text/plain": [
              "dict_keys(['idx', 'label', 'sentence'])"
            ]
          },
          "metadata": {
            "tags": []
          },
          "execution_count": 3
        }
      ]
    },
    {
      "cell_type": "code",
      "metadata": {
        "id": "8eRRC5kpCiRW",
        "colab_type": "code",
        "colab": {}
      },
      "source": [
        "df_train = pd.DataFrame(data=train_data)\n",
        "df_val = pd.DataFrame(data=validation_data)"
      ],
      "execution_count": 4,
      "outputs": []
    },
    {
      "cell_type": "code",
      "metadata": {
        "id": "rzUQptyjMrSc",
        "colab_type": "code",
        "colab": {
          "base_uri": "https://localhost:8080/",
          "height": 406
        },
        "outputId": "ef2913f7-9984-4745-f7ab-30c090d3430d"
      },
      "source": [
        "df_train.loc[df_train['label']==0]"
      ],
      "execution_count": 5,
      "outputs": [
        {
          "output_type": "execute_result",
          "data": {
            "text/html": [
              "<div>\n",
              "<style scoped>\n",
              "    .dataframe tbody tr th:only-of-type {\n",
              "        vertical-align: middle;\n",
              "    }\n",
              "\n",
              "    .dataframe tbody tr th {\n",
              "        vertical-align: top;\n",
              "    }\n",
              "\n",
              "    .dataframe thead th {\n",
              "        text-align: right;\n",
              "    }\n",
              "</style>\n",
              "<table border=\"1\" class=\"dataframe\">\n",
              "  <thead>\n",
              "    <tr style=\"text-align: right;\">\n",
              "      <th></th>\n",
              "      <th>idx</th>\n",
              "      <th>label</th>\n",
              "      <th>sentence</th>\n",
              "    </tr>\n",
              "  </thead>\n",
              "  <tbody>\n",
              "    <tr>\n",
              "      <th>5</th>\n",
              "      <td>3017</td>\n",
              "      <td>0</td>\n",
              "      <td>b'The inspector analyzed the soundness in the ...</td>\n",
              "    </tr>\n",
              "    <tr>\n",
              "      <th>10</th>\n",
              "      <td>4352</td>\n",
              "      <td>0</td>\n",
              "      <td>b'There is more chemical substances involved i...</td>\n",
              "    </tr>\n",
              "    <tr>\n",
              "      <th>20</th>\n",
              "      <td>3365</td>\n",
              "      <td>0</td>\n",
              "      <td>b'In the corner lay a dog.'</td>\n",
              "    </tr>\n",
              "    <tr>\n",
              "      <th>23</th>\n",
              "      <td>6026</td>\n",
              "      <td>0</td>\n",
              "      <td>b'The cat was being eating.'</td>\n",
              "    </tr>\n",
              "    <tr>\n",
              "      <th>24</th>\n",
              "      <td>7931</td>\n",
              "      <td>0</td>\n",
              "      <td>b'The Greeks arrived all.'</td>\n",
              "    </tr>\n",
              "    <tr>\n",
              "      <th>...</th>\n",
              "      <td>...</td>\n",
              "      <td>...</td>\n",
              "      <td>...</td>\n",
              "    </tr>\n",
              "    <tr>\n",
              "      <th>8539</th>\n",
              "      <td>3682</td>\n",
              "      <td>0</td>\n",
              "      <td>b'John suddenly got the bus off.'</td>\n",
              "    </tr>\n",
              "    <tr>\n",
              "      <th>8544</th>\n",
              "      <td>7565</td>\n",
              "      <td>0</td>\n",
              "      <td>b'Mary believes that Bill saw herself.'</td>\n",
              "    </tr>\n",
              "    <tr>\n",
              "      <th>8546</th>\n",
              "      <td>4920</td>\n",
              "      <td>0</td>\n",
              "      <td>b'a pencil with that to write broke.'</td>\n",
              "    </tr>\n",
              "    <tr>\n",
              "      <th>8547</th>\n",
              "      <td>3619</td>\n",
              "      <td>0</td>\n",
              "      <td>b'It was in the park last night that the polic...</td>\n",
              "    </tr>\n",
              "    <tr>\n",
              "      <th>8549</th>\n",
              "      <td>8351</td>\n",
              "      <td>0</td>\n",
              "      <td>b'You said she liked yourself'</td>\n",
              "    </tr>\n",
              "  </tbody>\n",
              "</table>\n",
              "<p>2528 rows × 3 columns</p>\n",
              "</div>"
            ],
            "text/plain": [
              "       idx  label                                           sentence\n",
              "5     3017      0  b'The inspector analyzed the soundness in the ...\n",
              "10    4352      0  b'There is more chemical substances involved i...\n",
              "20    3365      0                        b'In the corner lay a dog.'\n",
              "23    6026      0                       b'The cat was being eating.'\n",
              "24    7931      0                         b'The Greeks arrived all.'\n",
              "...    ...    ...                                                ...\n",
              "8539  3682      0                  b'John suddenly got the bus off.'\n",
              "8544  7565      0            b'Mary believes that Bill saw herself.'\n",
              "8546  4920      0              b'a pencil with that to write broke.'\n",
              "8547  3619      0  b'It was in the park last night that the polic...\n",
              "8549  8351      0                     b'You said she liked yourself'\n",
              "\n",
              "[2528 rows x 3 columns]"
            ]
          },
          "metadata": {
            "tags": []
          },
          "execution_count": 5
        }
      ]
    },
    {
      "cell_type": "code",
      "metadata": {
        "id": "NCdbwdYZC5De",
        "colab_type": "code",
        "colab": {}
      },
      "source": [
        "# Creates function to clean data\n",
        "\n",
        "def process_data (data):\n",
        "  punct = \"/-?!.,#$%\\()*+-/:;<=>@[\\\\]^_`{|}~`\" + '\"\"“”’' + '∞θ÷α•à−β∅³π‘₹´°£€\\×™√²—–&'\n",
        "  def clean_the_text (text, punt):\n",
        "    for p in punct:\n",
        "      text = text.replace(p, ' ')\n",
        "      text = text.replace(\"b'\", ' ', 1)\n",
        "      text = text.replace('b\"', ' ', 1)\n",
        "    return text\n",
        "  \n",
        "  data =  data.astype(str).apply(lambda x: clean_the_text(x, punct))\n",
        "  return data  "
      ],
      "execution_count": 6,
      "outputs": []
    },
    {
      "cell_type": "code",
      "metadata": {
        "id": "jP91rwgxecwm",
        "colab_type": "code",
        "colab": {
          "base_uri": "https://localhost:8080/",
          "height": 52
        },
        "outputId": "b803be28-5d64-4db5-cc13-4b8987923c71"
      },
      "source": [
        "# Transform data to string as it came as tensor object. Cleans data\n",
        "\n",
        "sentence = process_data(df_train.sentence.apply(str))\n",
        "label = df_train.label.apply(int)\n",
        "print(len(sentence))\n",
        "print(len(label))"
      ],
      "execution_count": 7,
      "outputs": [
        {
          "output_type": "stream",
          "text": [
            "8551\n",
            "8551\n"
          ],
          "name": "stdout"
        }
      ]
    },
    {
      "cell_type": "code",
      "metadata": {
        "id": "Th3AfEHhaljE",
        "colab_type": "code",
        "colab": {
          "base_uri": "https://localhost:8080/",
          "height": 230
        },
        "outputId": "008b66ed-0423-4ddc-f2ad-b62f129776dc"
      },
      "source": [
        "label"
      ],
      "execution_count": 8,
      "outputs": [
        {
          "output_type": "execute_result",
          "data": {
            "text/plain": [
              "0       1\n",
              "1       1\n",
              "2       1\n",
              "3       1\n",
              "4       1\n",
              "       ..\n",
              "8546    0\n",
              "8547    0\n",
              "8548    1\n",
              "8549    0\n",
              "8550    1\n",
              "Name: label, Length: 8551, dtype: int64"
            ]
          },
          "metadata": {
            "tags": []
          },
          "execution_count": 8
        }
      ]
    },
    {
      "cell_type": "code",
      "metadata": {
        "id": "JAhKnKCeikeo",
        "colab_type": "code",
        "colab": {
          "base_uri": "https://localhost:8080/",
          "height": 230
        },
        "outputId": "da87f39e-71ba-476e-f2c0-1655586399b3"
      },
      "source": [
        "sentence"
      ],
      "execution_count": 9,
      "outputs": [
        {
          "output_type": "execute_result",
          "data": {
            "text/plain": [
              "0        It is this hat that it is certain that he was...\n",
              "1        Her efficient looking up of the answer please...\n",
              "2                 Both the workers will wear carnations '\n",
              "3        John enjoyed drawing trees for his syntax hom...\n",
              "4        We consider Leslie rather foolish  and Lou a ...\n",
              "                              ...                        \n",
              "8546                  a pencil with that to write broke '\n",
              "8547     It was in the park last night that the police...\n",
              "8548           John looked up the inside of the chimney '\n",
              "8549                         You said she liked yourself'\n",
              "8550        What we're using is their teaching material  \n",
              "Name: sentence, Length: 8551, dtype: object"
            ]
          },
          "metadata": {
            "tags": []
          },
          "execution_count": 9
        }
      ]
    },
    {
      "cell_type": "code",
      "metadata": {
        "id": "pIL5Jok7qhjx",
        "colab_type": "code",
        "colab": {
          "base_uri": "https://localhost:8080/",
          "height": 52
        },
        "outputId": "25cda65f-341a-4e1d-a5b9-4478a5d5f080"
      },
      "source": [
        "# Transform data to string for validation as well\n",
        "\n",
        "val_sentence = process_data(df_val.sentence.apply(str))\n",
        "val_label = df_val.label\n",
        "print(len(val_sentence))\n",
        "print(len(val_label))"
      ],
      "execution_count": 10,
      "outputs": [
        {
          "output_type": "stream",
          "text": [
            "1043\n",
            "1043\n"
          ],
          "name": "stdout"
        }
      ]
    },
    {
      "cell_type": "code",
      "metadata": {
        "id": "KggxgPCmqh74",
        "colab_type": "code",
        "colab": {
          "base_uri": "https://localhost:8080/",
          "height": 230
        },
        "outputId": "cabe0109-df1b-4857-c771-b3725f9287e9"
      },
      "source": [
        "val_sentence"
      ],
      "execution_count": 11,
      "outputs": [
        {
          "output_type": "execute_result",
          "data": {
            "text/plain": [
              "0                    That picture of Susan offended her '\n",
              "1                                         I noticed the '\n",
              "2                         Mary revealed himself to John '\n",
              "3                    Frank Churchill crossed the street '\n",
              "4                      Everyone hopes everyone to sleep '\n",
              "                              ...                        \n",
              "1038     Smith loaned a valuable collection of manuscr...\n",
              "1039              I gave it to Pete to take to the fair '\n",
              "1040     I demand that the more John eat  the more he ...\n",
              "1041                                        They yelled '\n",
              "1042                   The person responsible confessed '\n",
              "Name: sentence, Length: 1043, dtype: object"
            ]
          },
          "metadata": {
            "tags": []
          },
          "execution_count": 11
        }
      ]
    },
    {
      "cell_type": "code",
      "metadata": {
        "id": "mSlUUfCu7Flg",
        "colab_type": "code",
        "colab": {
          "base_uri": "https://localhost:8080/",
          "height": 230
        },
        "outputId": "53b8b901-a0c2-4784-de70-f11095b3ce06"
      },
      "source": [
        "val_label"
      ],
      "execution_count": 12,
      "outputs": [
        {
          "output_type": "execute_result",
          "data": {
            "text/plain": [
              "0       1\n",
              "1       0\n",
              "2       0\n",
              "3       1\n",
              "4       0\n",
              "       ..\n",
              "1038    1\n",
              "1039    1\n",
              "1040    0\n",
              "1041    1\n",
              "1042    1\n",
              "Name: label, Length: 1043, dtype: int64"
            ]
          },
          "metadata": {
            "tags": []
          },
          "execution_count": 12
        }
      ]
    },
    {
      "cell_type": "code",
      "metadata": {
        "id": "pG7jnEdkVIXS",
        "colab_type": "code",
        "colab": {
          "base_uri": "https://localhost:8080/",
          "height": 70
        },
        "outputId": "899a8fff-5d13-4232-c176-2b3c5f00f8d6"
      },
      "source": [
        "# Check lenght of sentence\n",
        "\n",
        "count = sentence.apply(lambda x: len(str(x).split()))\n",
        "print('Mean: %f' % (count.mean()))\n",
        "print('Median: %f' % (count.median()))\n",
        "print('Max: %f' % (count.max()))"
      ],
      "execution_count": 13,
      "outputs": [
        {
          "output_type": "stream",
          "text": [
            "Mean: 8.569173\n",
            "Median: 8.000000\n",
            "Max: 43.000000\n"
          ],
          "name": "stdout"
        }
      ]
    },
    {
      "cell_type": "code",
      "metadata": {
        "id": "hEH369MDaR5Q",
        "colab_type": "code",
        "colab": {}
      },
      "source": [
        "# Brings Tokenizer and sequences padder\n",
        "\n",
        "Tokenizer = tf.keras.preprocessing.text.Tokenizer\n",
        "pad_sequences = tf.keras.preprocessing.sequence.pad_sequences\n",
        "\n",
        "tokenizer = Tokenizer(num_words=20000)\n",
        "max_len = 32"
      ],
      "execution_count": 14,
      "outputs": []
    },
    {
      "cell_type": "code",
      "metadata": {
        "id": "_yBBtmYVX1jr",
        "colab_type": "code",
        "colab": {
          "base_uri": "https://localhost:8080/",
          "height": 34
        },
        "outputId": "341a5f04-adc9-4d74-f7f8-8d3616d6e4fb"
      },
      "source": [
        "# Creates vocabulary with all unique tokens\n",
        "\n",
        "tokenizer.fit_on_texts(list(sentence) + list(val_sentence))\n",
        "vocab_size = len(tokenizer.word_index) + 1 # Because it counts from 0\n",
        "print(vocab_size)"
      ],
      "execution_count": 15,
      "outputs": [
        {
          "output_type": "stream",
          "text": [
            "5976\n"
          ],
          "name": "stdout"
        }
      ]
    },
    {
      "cell_type": "code",
      "metadata": {
        "id": "N_gK24QwaSS8",
        "colab_type": "code",
        "colab": {
          "base_uri": "https://localhost:8080/",
          "height": 87
        },
        "outputId": "1a76d566-10d0-4c94-c0ef-a3d46792caf6"
      },
      "source": [
        "# transforms sentences into integers and pads to maxlen\n",
        "\n",
        "encoded_sentences = tokenizer.texts_to_sequences(sentence)\n",
        "padded_sentences = pad_sequences(encoded_sentences, maxlen=max_len, padding='post')\n",
        "\n",
        "# Check\n",
        "print(sentence[0])\n",
        "print(encoded_sentences[0])\n",
        "print(padded_sentences[0])"
      ],
      "execution_count": 16,
      "outputs": [
        {
          "output_type": "stream",
          "text": [
            " It is this hat that it is certain that he was wearing '\n",
            "[14, 7, 29, 252, 5, 14, 7, 222, 5, 13, 10, 525, 1]\n",
            "[ 14   7  29 252   5  14   7 222   5  13  10 525   1   0   0   0   0   0\n",
            "   0   0   0   0   0   0   0   0   0   0   0   0   0   0]\n"
          ],
          "name": "stdout"
        }
      ]
    },
    {
      "cell_type": "code",
      "metadata": {
        "id": "r2FpfcK7tzpI",
        "colab_type": "code",
        "colab": {
          "base_uri": "https://localhost:8080/",
          "height": 87
        },
        "outputId": "052c895d-fcb5-4268-ee83-cb2eeff05e98"
      },
      "source": [
        "# Same for validation\n",
        "\n",
        "val_encoded_sentences = tokenizer.texts_to_sequences(val_sentence)\n",
        "val_padded_sentences = pad_sequences(val_encoded_sentences, maxlen=max_len, padding='post')\n",
        "\n",
        "# Check\n",
        "print(val_sentence[0])\n",
        "print(val_encoded_sentences[0])\n",
        "print(val_padded_sentences[0])"
      ],
      "execution_count": 17,
      "outputs": [
        {
          "output_type": "stream",
          "text": [
            " That picture of Susan offended her '\n",
            "[5, 89, 9, 145, 736, 39, 1]\n",
            "[  5  89   9 145 736  39   1   0   0   0   0   0   0   0   0   0   0   0\n",
            "   0   0   0   0   0   0   0   0   0   0   0   0   0   0]\n"
          ],
          "name": "stdout"
        }
      ]
    },
    {
      "cell_type": "code",
      "metadata": {
        "id": "gCnv7tSWqzoQ",
        "colab_type": "code",
        "colab": {}
      },
      "source": [
        "# # download pretrained GloVe embeddings\n",
        "\n",
        "# !wget http://nlp.stanford.edu/data/glove.6B.zip\n",
        "\n",
        "# !unzip glove.6B.zip"
      ],
      "execution_count": 18,
      "outputs": []
    },
    {
      "cell_type": "code",
      "metadata": {
        "id": "RkehWiYC85PR",
        "colab_type": "code",
        "colab": {
          "base_uri": "https://localhost:8080/",
          "height": 125
        },
        "outputId": "b6ccf369-4638-4d52-acda-95736b012a27"
      },
      "source": [
        "# Mount them from drive for quicker performance\n",
        "\n",
        "from google.colab import drive\n",
        "drive.mount('/content/gdrive')"
      ],
      "execution_count": 20,
      "outputs": [
        {
          "output_type": "stream",
          "text": [
            "Go to this URL in a browser: https://accounts.google.com/o/oauth2/auth?client_id=947318989803-6bn6qk8qdgf4n4g3pfee6491hc0brc4i.apps.googleusercontent.com&redirect_uri=urn%3aietf%3awg%3aoauth%3a2.0%3aoob&response_type=code&scope=email%20https%3a%2f%2fwww.googleapis.com%2fauth%2fdocs.test%20https%3a%2f%2fwww.googleapis.com%2fauth%2fdrive%20https%3a%2f%2fwww.googleapis.com%2fauth%2fdrive.photos.readonly%20https%3a%2f%2fwww.googleapis.com%2fauth%2fpeopleapi.readonly\n",
            "\n",
            "Enter your authorization code:\n",
            "··········\n",
            "Mounted at /content/gdrive\n"
          ],
          "name": "stdout"
        }
      ]
    },
    {
      "cell_type": "code",
      "metadata": {
        "id": "sjX2lrsJ848-",
        "colab_type": "code",
        "colab": {
          "base_uri": "https://localhost:8080/",
          "height": 34
        },
        "outputId": "687956c3-360c-4091-c793-b630b5fd5cdf"
      },
      "source": [
        "# lists files\n",
        "\n",
        "!ls \"/content/gdrive/My Drive/Glove/glove.6B.300d.txt\""
      ],
      "execution_count": 21,
      "outputs": [
        {
          "output_type": "stream",
          "text": [
            "'/content/gdrive/My Drive/Glove/glove.6B.300d.txt'\n"
          ],
          "name": "stdout"
        }
      ]
    },
    {
      "cell_type": "code",
      "metadata": {
        "id": "_v05K9iJ9Hx7",
        "colab_type": "code",
        "colab": {
          "base_uri": "https://localhost:8080/",
          "height": 34
        },
        "outputId": "8adbc312-9168-4d1b-f10f-4cabfeb060fc"
      },
      "source": [
        "# Creates dictionary of word embeddings\n",
        "\n",
        "glove_dir = './'\n",
        "\n",
        "embeddings_index = {} #initialize dictionary\n",
        "f = open(os.path.join('/content/gdrive/My Drive/Glove/glove.6B.300d.txt'))\n",
        "for line in f:\n",
        "    values = line.split()\n",
        "    word = values[0]\n",
        "    coefs = np.asarray(values[1:], dtype='float32')\n",
        "    embeddings_index[word] = coefs\n",
        "f.close()\n",
        "\n",
        "print('Found %s word vectors.' % len(embeddings_index))"
      ],
      "execution_count": 22,
      "outputs": [
        {
          "output_type": "stream",
          "text": [
            "Found 400000 word vectors.\n"
          ],
          "name": "stdout"
        }
      ]
    },
    {
      "cell_type": "code",
      "metadata": {
        "id": "SUe68Vlqqu4f",
        "colab_type": "code",
        "colab": {}
      },
      "source": [
        "# Start with the embedding. Randomly initializing the zeros\n",
        "\n",
        "embedding_dimensions = 300\n",
        "\n",
        "embedding_matrix = np.zeros((vocab_size, embedding_dimensions))\n",
        "\n",
        "for word, i in tokenizer.word_index.items():\n",
        "  embedding_vector = embeddings_index.get(word)\n",
        "  if embedding_vector is not None:\n",
        "    embedding_matrix[i] = embedding_vector  "
      ],
      "execution_count": 23,
      "outputs": []
    },
    {
      "cell_type": "code",
      "metadata": {
        "id": "8lAn5xh8s-gN",
        "colab_type": "code",
        "colab": {}
      },
      "source": [
        "from keras.models import Sequential\n",
        "from keras.layers import Dense, Dropout, Activation, Flatten, SpatialDropout1D\n",
        "from keras import layers"
      ],
      "execution_count": 62,
      "outputs": []
    },
    {
      "cell_type": "code",
      "metadata": {
        "id": "m3O-qisytV0e",
        "colab_type": "code",
        "colab": {}
      },
      "source": [
        "embed = Embedding(vocab_size,embedding_dimensions,weights=[embedding_matrix],input_length=max_len, trainable=False)\n",
        "\n",
        "n_hidden = 50"
      ],
      "execution_count": 77,
      "outputs": []
    },
    {
      "cell_type": "code",
      "metadata": {
        "id": "8WtjLJ0LvM0e",
        "colab_type": "code",
        "colab": {
          "base_uri": "https://localhost:8080/",
          "height": 301
        },
        "outputId": "97b354ab-7a04-4094-d614-3781aca0d7f7"
      },
      "source": [
        "model = Sequential()\n",
        "model.add(embed)\n",
        "model.add(LSTM(n_hidden, dropout=0.2, activation='tanh', recurrent_dropout=0.2))\n",
        "model.add(Dense(1, activation='sigmoid'))\n",
        "model.summary()"
      ],
      "execution_count": 78,
      "outputs": [
        {
          "output_type": "stream",
          "text": [
            "WARNING:tensorflow:Layer lstm will not use cuDNN kernel since it doesn't meet the cuDNN kernel criteria. It will use generic GPU kernel as fallback when running on GPU\n"
          ],
          "name": "stdout"
        },
        {
          "output_type": "stream",
          "text": [
            "WARNING:tensorflow:Layer lstm will not use cuDNN kernel since it doesn't meet the cuDNN kernel criteria. It will use generic GPU kernel as fallback when running on GPU\n"
          ],
          "name": "stderr"
        },
        {
          "output_type": "stream",
          "text": [
            "Model: \"sequential\"\n",
            "_________________________________________________________________\n",
            "Layer (type)                 Output Shape              Param #   \n",
            "=================================================================\n",
            "embedding (Embedding)        (None, 32, 300)           1792800   \n",
            "_________________________________________________________________\n",
            "lstm (LSTM)                  (None, 50)                70200     \n",
            "_________________________________________________________________\n",
            "dense (Dense)                (None, 1)                 51        \n",
            "=================================================================\n",
            "Total params: 1,863,051\n",
            "Trainable params: 70,251\n",
            "Non-trainable params: 1,792,800\n",
            "_________________________________________________________________\n"
          ],
          "name": "stdout"
        }
      ]
    },
    {
      "cell_type": "code",
      "metadata": {
        "id": "hotDPZblWO1X",
        "colab_type": "code",
        "colab": {
          "base_uri": "https://localhost:8080/",
          "height": 218
        },
        "outputId": "6d7e9521-d2c8-4d9e-c30f-8de6d66f9cfb"
      },
      "source": [
        "# Plot model graph\n",
        "from keras.utils import plot_model\n",
        "plot_model(model, show_shapes=True, show_layer_names=True, to_file='model.png')\n",
        "from IPython.display import Image\n",
        "Image(retina=True, filename='model.png')"
      ],
      "execution_count": 72,
      "outputs": [
        {
          "output_type": "execute_result",
          "data": {
            "image/png": "[encoded data removed]",
            "text/plain": [
              "<IPython.core.display.Image object>"
            ]
          },
          "metadata": {
            "tags": [],
            "image/png": {
              "width": 212,
              "height": 202
            }
          },
          "execution_count": 72
        }
      ]
    },
    {
      "cell_type": "code",
      "metadata": {
        "id": "wYtFjvHb4O3-",
        "colab_type": "code",
        "colab": {}
      },
      "source": [
        "model.compile(optimizer=tf.keras.optimizers.Adam(learning_rate=0.001),\n",
        "              loss=tf.keras.losses.binary_crossentropy,\n",
        "              metrics=['accuracy'])"
      ],
      "execution_count": 79,
      "outputs": []
    },
    {
      "cell_type": "code",
      "metadata": {
        "id": "BpYdYuJOH7wz",
        "colab_type": "code",
        "colab": {}
      },
      "source": [
        "# Classs is imbalanced!! If not addressed the model finds a local minimum at 70\n",
        "# by adscribing 1 to every example and thus acquiring 70% accuracy\n",
        "\n",
        "class_weights= {0:3, 1:7}"
      ],
      "execution_count": 80,
      "outputs": []
    },
    {
      "cell_type": "code",
      "metadata": {
        "id": "xY64oWRx6APh",
        "colab_type": "code",
        "colab": {}
      },
      "source": [
        "# Early stopping to prevent under/over fitting\n",
        "from tensorflow.keras.callbacks import EarlyStopping\n",
        "earlystop = EarlyStopping(monitor='val_accuracy', min_delta=0, patience=10, verbose=0, mode='auto')\n",
        "\n",
        "# Fit the model\n",
        "history = model.fit(padded_sentences,\n",
        "                    label,                    \n",
        "                    epochs=20,\n",
        "                    batch_size=64,                    \n",
        "                    class_weight=class_weights,                    \n",
        "                    validation_split = 0.2,\n",
        "                    verbose=True,                 \n",
        "                    callbacks=[earlystop])"
      ],
      "execution_count": null,
      "outputs": []
    },
    {
      "cell_type": "code",
      "metadata": {
        "id": "4guy3IKdLH4c",
        "colab_type": "code",
        "colab": {}
      },
      "source": [
        "# Uncomment and start again from Sequential to \n",
        "# Reset weights and retrain model\n",
        "\n",
        "K.clear_session()\n",
        "tf.keras.backend.clear_session()"
      ],
      "execution_count": 76,
      "outputs": []
    },
    {
      "cell_type": "code",
      "metadata": {
        "id": "S1U8BdcUbR2X",
        "colab_type": "code",
        "colab": {
          "base_uri": "https://localhost:8080/",
          "height": 34
        },
        "outputId": "6ac448d7-ae78-4b31-d903-bbc35fb9eeae"
      },
      "source": [
        "history.history.keys()"
      ],
      "execution_count": 138,
      "outputs": [
        {
          "output_type": "execute_result",
          "data": {
            "text/plain": [
              "dict_keys(['loss', 'accuracy', 'val_loss', 'val_accuracy'])"
            ]
          },
          "metadata": {
            "tags": []
          },
          "execution_count": 138
        }
      ]
    },
    {
      "cell_type": "code",
      "metadata": {
        "id": "Tv66wZAFcYXs",
        "colab_type": "code",
        "colab": {
          "base_uri": "https://localhost:8080/",
          "height": 34
        },
        "outputId": "9db8ebbd-38a7-4803-df1a-605c3606f36f"
      },
      "source": [
        "max(history.history['accuracy'])"
      ],
      "execution_count": 140,
      "outputs": [
        {
          "output_type": "execute_result",
          "data": {
            "text/plain": [
              "0.7211988568305969"
            ]
          },
          "metadata": {
            "tags": []
          },
          "execution_count": 140
        }
      ]
    },
    {
      "cell_type": "code",
      "metadata": {
        "id": "mBJ8kY1W6eKB",
        "colab_type": "code",
        "colab": {
          "base_uri": "https://localhost:8080/",
          "height": 70
        },
        "outputId": "7d810186-3d0a-4885-dea2-661efd5eba4e"
      },
      "source": [
        "# Test evaluation\n",
        "\n",
        "print(\"Evaluate on test data\")\n",
        "\n",
        "results = model.evaluate(val_padded_sentences, val_label)\n",
        "\n",
        "print(\"test loss, test acc:\", results)"
      ],
      "execution_count": 127,
      "outputs": [
        {
          "output_type": "stream",
          "text": [
            "Evaluate on test data\n",
            "33/33 [==============================] - 1s 19ms/step - loss: 0.7420 - accuracy: 0.6903\n",
            "test loss, test acc: [0.7420401573181152, 0.690316379070282]\n"
          ],
          "name": "stdout"
        }
      ]
    },
    {
      "cell_type": "code",
      "metadata": {
        "id": "GkOh1ZhR0gf3",
        "colab_type": "code",
        "colab": {}
      },
      "source": [
        "prediction = model.predict(val_padded_sentences)"
      ],
      "execution_count": 83,
      "outputs": []
    },
    {
      "cell_type": "code",
      "metadata": {
        "id": "c3OaciDxeudp",
        "colab_type": "code",
        "colab": {}
      },
      "source": [
        "# Adjust it to binary prediction 0 or 1\n",
        "\n",
        "def binary_prediction (prediction):\n",
        "  true_preds = []\n",
        "  for pred in prediction:\n",
        "    if pred <= 0.5:\n",
        "      pred = 0\n",
        "    if pred > 0.5:\n",
        "      pred = 1\n",
        "    true_preds.append(pred)\n",
        "  return true_preds\n"
      ],
      "execution_count": 84,
      "outputs": []
    },
    {
      "cell_type": "code",
      "metadata": {
        "id": "hzfuZZMCfzhs",
        "colab_type": "code",
        "colab": {}
      },
      "source": [
        "true_prediction = binary_prediction(prediction=prediction)"
      ],
      "execution_count": 85,
      "outputs": []
    },
    {
      "cell_type": "code",
      "metadata": {
        "id": "wixZGboqozoZ",
        "colab_type": "code",
        "colab": {}
      },
      "source": [
        "## Checking that labels are comparable to do matthews correlation\n",
        "## Matthews correlation yields a 0, which might be due to inconsistencies in the data"
      ],
      "execution_count": 86,
      "outputs": []
    },
    {
      "cell_type": "code",
      "metadata": {
        "id": "AbY33UxjhIkK",
        "colab_type": "code",
        "colab": {}
      },
      "source": [
        "val2 = val_label.to_numpy()"
      ],
      "execution_count": 87,
      "outputs": []
    },
    {
      "cell_type": "code",
      "metadata": {
        "id": "xZy_D4MwZC1e",
        "colab_type": "code",
        "colab": {
          "base_uri": "https://localhost:8080/",
          "height": 34
        },
        "outputId": "32c75711-0c46-418d-e5db-1159bf275f64"
      },
      "source": [
        "from sklearn.metrics import matthews_corrcoef\n",
        "\n",
        "matthews_corrcoef(val2, true_prediction)"
      ],
      "execution_count": 144,
      "outputs": [
        {
          "output_type": "execute_result",
          "data": {
            "text/plain": [
              "0.04510120936906261"
            ]
          },
          "metadata": {
            "tags": []
          },
          "execution_count": 144
        }
      ]
    },
    {
      "cell_type": "code",
      "metadata": {
        "id": "CZHdXF0M8BeJ",
        "colab_type": "code",
        "colab": {
          "base_uri": "https://localhost:8080/",
          "height": 194
        },
        "outputId": "ed8e2468-5cf2-4230-f19f-b8a887365940"
      },
      "source": [
        "import seaborn as sns\n",
        "\n",
        "# Plot Accuracy\n",
        "\n",
        "plt.subplot(211)\n",
        "plt.plot(history.history['accuracy'])\n",
        "plt.plot(history.history['val_accuracy'])\n",
        "plt.title('Model Accuracy')\n",
        "plt.ylabel('Accuracy')\n",
        "plt.xlabel('Epoch')\n",
        "plt.legend(['Train', 'Validation'], loc = 'upper left')"
      ],
      "execution_count": 143,
      "outputs": [
        {
          "output_type": "execute_result",
          "data": {
            "text/plain": [
              "<matplotlib.legend.Legend at 0x7f39d4042550>"
            ]
          },
          "metadata": {
            "tags": []
          },
          "execution_count": 143
        },
        {
          "output_type": "display_data",
          "data": {
            "image/png": "[encoded data removed]",
            "text/plain": [
              "<Figure size 432x288 with 1 Axes>"
            ]
          },
          "metadata": {
            "tags": [],
            "needs_background": "light"
          }
        }
      ]
    },
    {
      "cell_type": "code",
      "metadata": {
        "id": "qknzxTAhkPGQ",
        "colab_type": "code",
        "colab": {}
      },
      "source": [
        "# Run 10 experiments and plot results"
      ],
      "execution_count": 123,
      "outputs": []
    },
    {
      "cell_type": "code",
      "metadata": {
        "id": "6jx-h3HVkMRN",
        "colab_type": "code",
        "colab": {}
      },
      "source": [
        "def make_model():\n",
        "  tf.keras.backend.clear_session() # Starts session from scratch\n",
        "  model = Sequential()\n",
        "  model.add(embed)\n",
        "  model.add(LSTM(n_hidden, dropout=0.2, activation='tanh', recurrent_dropout=0.2))\n",
        "  model.add(Dense(1, activation='sigmoid'))\n",
        "  # model.summary()\n",
        "  model.compile(optimizer=tf.keras.optimizers.Adam(learning_rate=0.001), \n",
        "                loss=tf.keras.losses.binary_crossentropy, \n",
        "                metrics=['accuracy'])\n",
        "  model.fit(padded_sentences, \n",
        "            label, \n",
        "            epochs=20, \n",
        "            batch_size=64, \n",
        "            class_weight=class_weights, \n",
        "            validation_split = 0.2, \n",
        "            verbose=2, \n",
        "            callbacks=[earlystop])\n",
        "  results2 = model.evaluate(val_padded_sentences, val_label)\n",
        "  prediction2 = model.predict(val_padded_sentences)\n",
        "  true_pred = binary_prediction(prediction=prediction2)\n",
        "  mat_coef = matthews_corrcoef(val2,true_pred)\n",
        "  return mat_coef"
      ],
      "execution_count": 121,
      "outputs": []
    },
    {
      "cell_type": "code",
      "metadata": {
        "id": "Kxj3ubNc3lZU",
        "colab_type": "code",
        "colab": {}
      },
      "source": [
        "colection = [make_model() for _ in range (10)]"
      ],
      "execution_count": null,
      "outputs": []
    },
    {
      "cell_type": "code",
      "metadata": {
        "id": "y4fTF6AZ3y_t",
        "colab_type": "code",
        "colab": {}
      },
      "source": [
        "real_colection = [i * 100 for i in colection]"
      ],
      "execution_count": 110,
      "outputs": []
    },
    {
      "cell_type": "code",
      "metadata": {
        "id": "HeB_Erypg1La",
        "colab_type": "code",
        "colab": {
          "base_uri": "https://localhost:8080/",
          "height": 194
        },
        "outputId": "45b4d6b8-accc-4737-bc18-34810ea854a6"
      },
      "source": [
        "real_colection"
      ],
      "execution_count": 146,
      "outputs": [
        {
          "output_type": "execute_result",
          "data": {
            "text/plain": [
              "[4.510120936906261,\n",
              " 2.1324732257988184,\n",
              " -2.339059069282274,\n",
              " 3.716241204687234,\n",
              " 5.810041803799692,\n",
              " 6.413040878862749,\n",
              " 1.8148342420931134,\n",
              " 1.3712849373137743,\n",
              " 6.924068058777889,\n",
              " 4.63559874942472]"
            ]
          },
          "metadata": {
            "tags": []
          },
          "execution_count": 146
        }
      ]
    },
    {
      "cell_type": "code",
      "metadata": {
        "id": "nxl8zPzfV2AK",
        "colab_type": "code",
        "colab": {}
      },
      "source": [
        "import statistics"
      ],
      "execution_count": 117,
      "outputs": []
    },
    {
      "cell_type": "code",
      "metadata": {
        "id": "ZnNrnY1GU-0D",
        "colab_type": "code",
        "colab": {}
      },
      "source": [
        "median_value = statistics.median(real_colection)"
      ],
      "execution_count": 118,
      "outputs": []
    },
    {
      "cell_type": "code",
      "metadata": {
        "id": "pz_rgrE9U-g5",
        "colab_type": "code",
        "colab": {
          "base_uri": "https://localhost:8080/",
          "height": 34
        },
        "outputId": "30a61459-a06f-44d0-96b9-6153bdf85bb9"
      },
      "source": [
        "median_value"
      ],
      "execution_count": 119,
      "outputs": [
        {
          "output_type": "execute_result",
          "data": {
            "text/plain": [
              "4.113181070796747"
            ]
          },
          "metadata": {
            "tags": []
          },
          "execution_count": 119
        }
      ]
    },
    {
      "cell_type": "code",
      "metadata": {
        "id": "Wn4buEcYTW5u",
        "colab_type": "code",
        "colab": {
          "base_uri": "https://localhost:8080/",
          "height": 423
        },
        "outputId": "2f46ed34-4bfb-4583-8d88-ffbb092bbd53"
      },
      "source": [
        "fig1, ax1 = plt.subplots()\n",
        "ax1.set_title('Matthews Correlation for 10 runs')\n",
        "ax1.boxplot(real_colection)"
      ],
      "execution_count": 145,
      "outputs": [
        {
          "output_type": "execute_result",
          "data": {
            "text/plain": [
              "{'boxes': [<matplotlib.lines.Line2D at 0x7f39d5d7b668>],\n",
              " 'caps': [<matplotlib.lines.Line2D at 0x7f39d5d970b8>,\n",
              "  <matplotlib.lines.Line2D at 0x7f39d5d97438>],\n",
              " 'fliers': [<matplotlib.lines.Line2D at 0x7f39d5d97b38>],\n",
              " 'means': [],\n",
              " 'medians': [<matplotlib.lines.Line2D at 0x7f39d5d977b8>],\n",
              " 'whiskers': [<matplotlib.lines.Line2D at 0x7f39d5d7b978>,\n",
              "  <matplotlib.lines.Line2D at 0x7f39d5d7bcf8>]}"
            ]
          },
          "metadata": {
            "tags": []
          },
          "execution_count": 145
        },
        {
          "output_type": "display_data",
          "data": {
            "image/png": "[encoded data removed]",
            "text/plain": [
              "<Figure size 432x288 with 1 Axes>"
            ]
          },
          "metadata": {
            "tags": [],
            "needs_background": "light"
          }
        }
      ]
    },
    {
      "cell_type": "code",
      "metadata": {
        "id": "qp-_ejPVRxqa",
        "colab_type": "code",
        "colab": {}
      },
      "source": [
        ""
      ],
      "execution_count": null,
      "outputs": []
    }
  ]
}