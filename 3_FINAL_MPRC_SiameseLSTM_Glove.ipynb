{
  "nbformat": 4,
  "nbformat_minor": 0,
  "metadata": {
    "colab": {
      "name": "3_FINAL_MPRC_SiameseLSTM_Glove.ipynb",
      "provenance": [],
      "collapsed_sections": [],
      "authorship_tag": "ABX9TyOn8LjaRCyX5pdqb2/+4+dX",
      "include_colab_link": true
    },
    "kernelspec": {
      "name": "python3",
      "display_name": "Python 3"
    },
    "accelerator": "GPU",
    "widgets": {
      "application/vnd.jupyter.widget-state+json": {
        "71d66f44b0db4f65ac96e35b8c1a7ed9": {
          "model_module": "@jupyter-widgets/controls",
          "model_name": "HBoxModel",
          "state": {
            "_view_name": "HBoxView",
            "_dom_classes": [],
            "_model_name": "HBoxModel",
            "_view_module": "@jupyter-widgets/controls",
            "_model_module_version": "1.5.0",
            "_view_count": null,
            "_view_module_version": "1.5.0",
            "box_style": "",
            "layout": "IPY_MODEL_d17159dee96e47909fd34cd35aeb1a53",
            "_model_module": "@jupyter-widgets/controls",
            "children": [
              "IPY_MODEL_16833072204a41a4909e9f32503ed52e",
              "IPY_MODEL_d64a9bd3d474471695f3c2ce8e7261af"
            ]
          }
        },
        "d17159dee96e47909fd34cd35aeb1a53": {
          "model_module": "@jupyter-widgets/base",
          "model_name": "LayoutModel",
          "state": {
            "_view_name": "LayoutView",
            "grid_template_rows": null,
            "right": null,
            "justify_content": null,
            "_view_module": "@jupyter-widgets/base",
            "overflow": null,
            "_model_module_version": "1.2.0",
            "_view_count": null,
            "flex_flow": null,
            "width": null,
            "min_width": null,
            "border": null,
            "align_items": null,
            "bottom": null,
            "_model_module": "@jupyter-widgets/base",
            "top": null,
            "grid_column": null,
            "overflow_y": null,
            "overflow_x": null,
            "grid_auto_flow": null,
            "grid_area": null,
            "grid_template_columns": null,
            "flex": null,
            "_model_name": "LayoutModel",
            "justify_items": null,
            "grid_row": null,
            "max_height": null,
            "align_content": null,
            "visibility": null,
            "align_self": null,
            "height": null,
            "min_height": null,
            "padding": null,
            "grid_auto_rows": null,
            "grid_gap": null,
            "max_width": null,
            "order": null,
            "_view_module_version": "1.2.0",
            "grid_template_areas": null,
            "object_position": null,
            "object_fit": null,
            "grid_auto_columns": null,
            "margin": null,
            "display": null,
            "left": null
          }
        },
        "16833072204a41a4909e9f32503ed52e": {
          "model_module": "@jupyter-widgets/controls",
          "model_name": "FloatProgressModel",
          "state": {
            "_view_name": "ProgressView",
            "style": "IPY_MODEL_fca60b623fc24b2f87fdcaad6cee46e4",
            "_dom_classes": [],
            "description": "Dl Completed...: 100%",
            "_model_name": "FloatProgressModel",
            "bar_style": "success",
            "max": 1,
            "_view_module": "@jupyter-widgets/controls",
            "_model_module_version": "1.5.0",
            "value": 1,
            "_view_count": null,
            "_view_module_version": "1.5.0",
            "orientation": "horizontal",
            "min": 0,
            "description_tooltip": null,
            "_model_module": "@jupyter-widgets/controls",
            "layout": "IPY_MODEL_0877ec2236c448b394c7c06503d2c666"
          }
        },
        "d64a9bd3d474471695f3c2ce8e7261af": {
          "model_module": "@jupyter-widgets/controls",
          "model_name": "HTMLModel",
          "state": {
            "_view_name": "HTMLView",
            "style": "IPY_MODEL_02e81b20cb0d455ebdaf9f9da0fd6458",
            "_dom_classes": [],
            "description": "",
            "_model_name": "HTMLModel",
            "placeholder": "​",
            "_view_module": "@jupyter-widgets/controls",
            "_model_module_version": "1.5.0",
            "value": " 3/3 [00:00&lt;00:00,  6.51 url/s]",
            "_view_count": null,
            "_view_module_version": "1.5.0",
            "description_tooltip": null,
            "_model_module": "@jupyter-widgets/controls",
            "layout": "IPY_MODEL_c5f2cf75f9404320a1d01873bb57dd17"
          }
        },
        "fca60b623fc24b2f87fdcaad6cee46e4": {
          "model_module": "@jupyter-widgets/controls",
          "model_name": "ProgressStyleModel",
          "state": {
            "_view_name": "StyleView",
            "_model_name": "ProgressStyleModel",
            "description_width": "initial",
            "_view_module": "@jupyter-widgets/base",
            "_model_module_version": "1.5.0",
            "_view_count": null,
            "_view_module_version": "1.2.0",
            "bar_color": null,
            "_model_module": "@jupyter-widgets/controls"
          }
        },
        "0877ec2236c448b394c7c06503d2c666": {
          "model_module": "@jupyter-widgets/base",
          "model_name": "LayoutModel",
          "state": {
            "_view_name": "LayoutView",
            "grid_template_rows": null,
            "right": null,
            "justify_content": null,
            "_view_module": "@jupyter-widgets/base",
            "overflow": null,
            "_model_module_version": "1.2.0",
            "_view_count": null,
            "flex_flow": null,
            "width": null,
            "min_width": null,
            "border": null,
            "align_items": null,
            "bottom": null,
            "_model_module": "@jupyter-widgets/base",
            "top": null,
            "grid_column": null,
            "overflow_y": null,
            "overflow_x": null,
            "grid_auto_flow": null,
            "grid_area": null,
            "grid_template_columns": null,
            "flex": null,
            "_model_name": "LayoutModel",
            "justify_items": null,
            "grid_row": null,
            "max_height": null,
            "align_content": null,
            "visibility": null,
            "align_self": null,
            "height": null,
            "min_height": null,
            "padding": null,
            "grid_auto_rows": null,
            "grid_gap": null,
            "max_width": null,
            "order": null,
            "_view_module_version": "1.2.0",
            "grid_template_areas": null,
            "object_position": null,
            "object_fit": null,
            "grid_auto_columns": null,
            "margin": null,
            "display": null,
            "left": null
          }
        },
        "02e81b20cb0d455ebdaf9f9da0fd6458": {
          "model_module": "@jupyter-widgets/controls",
          "model_name": "DescriptionStyleModel",
          "state": {
            "_view_name": "StyleView",
            "_model_name": "DescriptionStyleModel",
            "description_width": "",
            "_view_module": "@jupyter-widgets/base",
            "_model_module_version": "1.5.0",
            "_view_count": null,
            "_view_module_version": "1.2.0",
            "_model_module": "@jupyter-widgets/controls"
          }
        },
        "c5f2cf75f9404320a1d01873bb57dd17": {
          "model_module": "@jupyter-widgets/base",
          "model_name": "LayoutModel",
          "state": {
            "_view_name": "LayoutView",
            "grid_template_rows": null,
            "right": null,
            "justify_content": null,
            "_view_module": "@jupyter-widgets/base",
            "overflow": null,
            "_model_module_version": "1.2.0",
            "_view_count": null,
            "flex_flow": null,
            "width": null,
            "min_width": null,
            "border": null,
            "align_items": null,
            "bottom": null,
            "_model_module": "@jupyter-widgets/base",
            "top": null,
            "grid_column": null,
            "overflow_y": null,
            "overflow_x": null,
            "grid_auto_flow": null,
            "grid_area": null,
            "grid_template_columns": null,
            "flex": null,
            "_model_name": "LayoutModel",
            "justify_items": null,
            "grid_row": null,
            "max_height": null,
            "align_content": null,
            "visibility": null,
            "align_self": null,
            "height": null,
            "min_height": null,
            "padding": null,
            "grid_auto_rows": null,
            "grid_gap": null,
            "max_width": null,
            "order": null,
            "_view_module_version": "1.2.0",
            "grid_template_areas": null,
            "object_position": null,
            "object_fit": null,
            "grid_auto_columns": null,
            "margin": null,
            "display": null,
            "left": null
          }
        },
        "ceafcd7adfba44feb080c4902aa6f203": {
          "model_module": "@jupyter-widgets/controls",
          "model_name": "HBoxModel",
          "state": {
            "_view_name": "HBoxView",
            "_dom_classes": [],
            "_model_name": "HBoxModel",
            "_view_module": "@jupyter-widgets/controls",
            "_model_module_version": "1.5.0",
            "_view_count": null,
            "_view_module_version": "1.5.0",
            "box_style": "",
            "layout": "IPY_MODEL_2ecc3b65199e40b292eaa12e67c30a43",
            "_model_module": "@jupyter-widgets/controls",
            "children": [
              "IPY_MODEL_e29665f685be4d1993e88e153c2a903b",
              "IPY_MODEL_a8271a98f628410a851e030b39b49dec"
            ]
          }
        },
        "2ecc3b65199e40b292eaa12e67c30a43": {
          "model_module": "@jupyter-widgets/base",
          "model_name": "LayoutModel",
          "state": {
            "_view_name": "LayoutView",
            "grid_template_rows": null,
            "right": null,
            "justify_content": null,
            "_view_module": "@jupyter-widgets/base",
            "overflow": null,
            "_model_module_version": "1.2.0",
            "_view_count": null,
            "flex_flow": null,
            "width": null,
            "min_width": null,
            "border": null,
            "align_items": null,
            "bottom": null,
            "_model_module": "@jupyter-widgets/base",
            "top": null,
            "grid_column": null,
            "overflow_y": null,
            "overflow_x": null,
            "grid_auto_flow": null,
            "grid_area": null,
            "grid_template_columns": null,
            "flex": null,
            "_model_name": "LayoutModel",
            "justify_items": null,
            "grid_row": null,
            "max_height": null,
            "align_content": null,
            "visibility": null,
            "align_self": null,
            "height": null,
            "min_height": null,
            "padding": null,
            "grid_auto_rows": null,
            "grid_gap": null,
            "max_width": null,
            "order": null,
            "_view_module_version": "1.2.0",
            "grid_template_areas": null,
            "object_position": null,
            "object_fit": null,
            "grid_auto_columns": null,
            "margin": null,
            "display": null,
            "left": null
          }
        },
        "e29665f685be4d1993e88e153c2a903b": {
          "model_module": "@jupyter-widgets/controls",
          "model_name": "FloatProgressModel",
          "state": {
            "_view_name": "ProgressView",
            "style": "IPY_MODEL_12f81bf71784480e8fd70c4e4a558672",
            "_dom_classes": [],
            "description": "Dl Size...: ",
            "_model_name": "FloatProgressModel",
            "bar_style": "success",
            "max": 1,
            "_view_module": "@jupyter-widgets/controls",
            "_model_module_version": "1.5.0",
            "value": 0,
            "_view_count": null,
            "_view_module_version": "1.5.0",
            "orientation": "horizontal",
            "min": 0,
            "description_tooltip": null,
            "_model_module": "@jupyter-widgets/controls",
            "layout": "IPY_MODEL_8dab59cd0f694fdcb873e5b2726cfe91"
          }
        },
        "a8271a98f628410a851e030b39b49dec": {
          "model_module": "@jupyter-widgets/controls",
          "model_name": "HTMLModel",
          "state": {
            "_view_name": "HTMLView",
            "style": "IPY_MODEL_eb21d836d5ae48a48d2e279238a06cb9",
            "_dom_classes": [],
            "description": "",
            "_model_name": "HTMLModel",
            "placeholder": "​",
            "_view_module": "@jupyter-widgets/controls",
            "_model_module_version": "1.5.0",
            "value": " 0/0 [00:00&lt;?, ? MiB/s]",
            "_view_count": null,
            "_view_module_version": "1.5.0",
            "description_tooltip": null,
            "_model_module": "@jupyter-widgets/controls",
            "layout": "IPY_MODEL_0738afbeff5a418688c186b13db32980"
          }
        },
        "12f81bf71784480e8fd70c4e4a558672": {
          "model_module": "@jupyter-widgets/controls",
          "model_name": "ProgressStyleModel",
          "state": {
            "_view_name": "StyleView",
            "_model_name": "ProgressStyleModel",
            "description_width": "initial",
            "_view_module": "@jupyter-widgets/base",
            "_model_module_version": "1.5.0",
            "_view_count": null,
            "_view_module_version": "1.2.0",
            "bar_color": null,
            "_model_module": "@jupyter-widgets/controls"
          }
        },
        "8dab59cd0f694fdcb873e5b2726cfe91": {
          "model_module": "@jupyter-widgets/base",
          "model_name": "LayoutModel",
          "state": {
            "_view_name": "LayoutView",
            "grid_template_rows": null,
            "right": null,
            "justify_content": null,
            "_view_module": "@jupyter-widgets/base",
            "overflow": null,
            "_model_module_version": "1.2.0",
            "_view_count": null,
            "flex_flow": null,
            "width": null,
            "min_width": null,
            "border": null,
            "align_items": null,
            "bottom": null,
            "_model_module": "@jupyter-widgets/base",
            "top": null,
            "grid_column": null,
            "overflow_y": null,
            "overflow_x": null,
            "grid_auto_flow": null,
            "grid_area": null,
            "grid_template_columns": null,
            "flex": null,
            "_model_name": "LayoutModel",
            "justify_items": null,
            "grid_row": null,
            "max_height": null,
            "align_content": null,
            "visibility": null,
            "align_self": null,
            "height": null,
            "min_height": null,
            "padding": null,
            "grid_auto_rows": null,
            "grid_gap": null,
            "max_width": null,
            "order": null,
            "_view_module_version": "1.2.0",
            "grid_template_areas": null,
            "object_position": null,
            "object_fit": null,
            "grid_auto_columns": null,
            "margin": null,
            "display": null,
            "left": null
          }
        },
        "eb21d836d5ae48a48d2e279238a06cb9": {
          "model_module": "@jupyter-widgets/controls",
          "model_name": "DescriptionStyleModel",
          "state": {
            "_view_name": "StyleView",
            "_model_name": "DescriptionStyleModel",
            "description_width": "",
            "_view_module": "@jupyter-widgets/base",
            "_model_module_version": "1.5.0",
            "_view_count": null,
            "_view_module_version": "1.2.0",
            "_model_module": "@jupyter-widgets/controls"
          }
        },
        "0738afbeff5a418688c186b13db32980": {
          "model_module": "@jupyter-widgets/base",
          "model_name": "LayoutModel",
          "state": {
            "_view_name": "LayoutView",
            "grid_template_rows": null,
            "right": null,
            "justify_content": null,
            "_view_module": "@jupyter-widgets/base",
            "overflow": null,
            "_model_module_version": "1.2.0",
            "_view_count": null,
            "flex_flow": null,
            "width": null,
            "min_width": null,
            "border": null,
            "align_items": null,
            "bottom": null,
            "_model_module": "@jupyter-widgets/base",
            "top": null,
            "grid_column": null,
            "overflow_y": null,
            "overflow_x": null,
            "grid_auto_flow": null,
            "grid_area": null,
            "grid_template_columns": null,
            "flex": null,
            "_model_name": "LayoutModel",
            "justify_items": null,
            "grid_row": null,
            "max_height": null,
            "align_content": null,
            "visibility": null,
            "align_self": null,
            "height": null,
            "min_height": null,
            "padding": null,
            "grid_auto_rows": null,
            "grid_gap": null,
            "max_width": null,
            "order": null,
            "_view_module_version": "1.2.0",
            "grid_template_areas": null,
            "object_position": null,
            "object_fit": null,
            "grid_auto_columns": null,
            "margin": null,
            "display": null,
            "left": null
          }
        },
        "700b63d12565458ab20bfaf14ed29df9": {
          "model_module": "@jupyter-widgets/controls",
          "model_name": "HBoxModel",
          "state": {
            "_view_name": "HBoxView",
            "_dom_classes": [],
            "_model_name": "HBoxModel",
            "_view_module": "@jupyter-widgets/controls",
            "_model_module_version": "1.5.0",
            "_view_count": null,
            "_view_module_version": "1.5.0",
            "box_style": "",
            "layout": "IPY_MODEL_d63698ecf6f94ddabda2d43198f7f00d",
            "_model_module": "@jupyter-widgets/controls",
            "children": [
              "IPY_MODEL_909886186a9c41a5952057ecaaf462ce",
              "IPY_MODEL_1ee7a9f234b2492ead44cc72097f1ac6"
            ]
          }
        },
        "d63698ecf6f94ddabda2d43198f7f00d": {
          "model_module": "@jupyter-widgets/base",
          "model_name": "LayoutModel",
          "state": {
            "_view_name": "LayoutView",
            "grid_template_rows": null,
            "right": null,
            "justify_content": null,
            "_view_module": "@jupyter-widgets/base",
            "overflow": null,
            "_model_module_version": "1.2.0",
            "_view_count": null,
            "flex_flow": null,
            "width": null,
            "min_width": null,
            "border": null,
            "align_items": null,
            "bottom": null,
            "_model_module": "@jupyter-widgets/base",
            "top": null,
            "grid_column": null,
            "overflow_y": null,
            "overflow_x": null,
            "grid_auto_flow": null,
            "grid_area": null,
            "grid_template_columns": null,
            "flex": null,
            "_model_name": "LayoutModel",
            "justify_items": null,
            "grid_row": null,
            "max_height": null,
            "align_content": null,
            "visibility": null,
            "align_self": null,
            "height": null,
            "min_height": null,
            "padding": null,
            "grid_auto_rows": null,
            "grid_gap": null,
            "max_width": null,
            "order": null,
            "_view_module_version": "1.2.0",
            "grid_template_areas": null,
            "object_position": null,
            "object_fit": null,
            "grid_auto_columns": null,
            "margin": null,
            "display": null,
            "left": null
          }
        },
        "909886186a9c41a5952057ecaaf462ce": {
          "model_module": "@jupyter-widgets/controls",
          "model_name": "FloatProgressModel",
          "state": {
            "_view_name": "ProgressView",
            "style": "IPY_MODEL_009f93c159ca40a381680c8c440b130a",
            "_dom_classes": [],
            "description": "",
            "_model_name": "FloatProgressModel",
            "bar_style": "info",
            "max": 1,
            "_view_module": "@jupyter-widgets/controls",
            "_model_module_version": "1.5.0",
            "value": 1,
            "_view_count": null,
            "_view_module_version": "1.5.0",
            "orientation": "horizontal",
            "min": 0,
            "description_tooltip": null,
            "_model_module": "@jupyter-widgets/controls",
            "layout": "IPY_MODEL_9700520401b945868feb50d4aa814f7a"
          }
        },
        "1ee7a9f234b2492ead44cc72097f1ac6": {
          "model_module": "@jupyter-widgets/controls",
          "model_name": "HTMLModel",
          "state": {
            "_view_name": "HTMLView",
            "style": "IPY_MODEL_75eeb7b89c38445080dbf1b99fe88a23",
            "_dom_classes": [],
            "description": "",
            "_model_name": "HTMLModel",
            "placeholder": "​",
            "_view_module": "@jupyter-widgets/controls",
            "_model_module_version": "1.5.0",
            "value": " 3668/0 [00:01&lt;00:00, 3139.18 examples/s]",
            "_view_count": null,
            "_view_module_version": "1.5.0",
            "description_tooltip": null,
            "_model_module": "@jupyter-widgets/controls",
            "layout": "IPY_MODEL_7b5ada6fc1da4113b206548be60f5b8e"
          }
        },
        "009f93c159ca40a381680c8c440b130a": {
          "model_module": "@jupyter-widgets/controls",
          "model_name": "ProgressStyleModel",
          "state": {
            "_view_name": "StyleView",
            "_model_name": "ProgressStyleModel",
            "description_width": "initial",
            "_view_module": "@jupyter-widgets/base",
            "_model_module_version": "1.5.0",
            "_view_count": null,
            "_view_module_version": "1.2.0",
            "bar_color": null,
            "_model_module": "@jupyter-widgets/controls"
          }
        },
        "9700520401b945868feb50d4aa814f7a": {
          "model_module": "@jupyter-widgets/base",
          "model_name": "LayoutModel",
          "state": {
            "_view_name": "LayoutView",
            "grid_template_rows": null,
            "right": null,
            "justify_content": null,
            "_view_module": "@jupyter-widgets/base",
            "overflow": null,
            "_model_module_version": "1.2.0",
            "_view_count": null,
            "flex_flow": null,
            "width": null,
            "min_width": null,
            "border": null,
            "align_items": null,
            "bottom": null,
            "_model_module": "@jupyter-widgets/base",
            "top": null,
            "grid_column": null,
            "overflow_y": null,
            "overflow_x": null,
            "grid_auto_flow": null,
            "grid_area": null,
            "grid_template_columns": null,
            "flex": null,
            "_model_name": "LayoutModel",
            "justify_items": null,
            "grid_row": null,
            "max_height": null,
            "align_content": null,
            "visibility": null,
            "align_self": null,
            "height": null,
            "min_height": null,
            "padding": null,
            "grid_auto_rows": null,
            "grid_gap": null,
            "max_width": null,
            "order": null,
            "_view_module_version": "1.2.0",
            "grid_template_areas": null,
            "object_position": null,
            "object_fit": null,
            "grid_auto_columns": null,
            "margin": null,
            "display": null,
            "left": null
          }
        },
        "75eeb7b89c38445080dbf1b99fe88a23": {
          "model_module": "@jupyter-widgets/controls",
          "model_name": "DescriptionStyleModel",
          "state": {
            "_view_name": "StyleView",
            "_model_name": "DescriptionStyleModel",
            "description_width": "",
            "_view_module": "@jupyter-widgets/base",
            "_model_module_version": "1.5.0",
            "_view_count": null,
            "_view_module_version": "1.2.0",
            "_model_module": "@jupyter-widgets/controls"
          }
        },
        "7b5ada6fc1da4113b206548be60f5b8e": {
          "model_module": "@jupyter-widgets/base",
          "model_name": "LayoutModel",
          "state": {
            "_view_name": "LayoutView",
            "grid_template_rows": null,
            "right": null,
            "justify_content": null,
            "_view_module": "@jupyter-widgets/base",
            "overflow": null,
            "_model_module_version": "1.2.0",
            "_view_count": null,
            "flex_flow": null,
            "width": null,
            "min_width": null,
            "border": null,
            "align_items": null,
            "bottom": null,
            "_model_module": "@jupyter-widgets/base",
            "top": null,
            "grid_column": null,
            "overflow_y": null,
            "overflow_x": null,
            "grid_auto_flow": null,
            "grid_area": null,
            "grid_template_columns": null,
            "flex": null,
            "_model_name": "LayoutModel",
            "justify_items": null,
            "grid_row": null,
            "max_height": null,
            "align_content": null,
            "visibility": null,
            "align_self": null,
            "height": null,
            "min_height": null,
            "padding": null,
            "grid_auto_rows": null,
            "grid_gap": null,
            "max_width": null,
            "order": null,
            "_view_module_version": "1.2.0",
            "grid_template_areas": null,
            "object_position": null,
            "object_fit": null,
            "grid_auto_columns": null,
            "margin": null,
            "display": null,
            "left": null
          }
        },
        "f4746738500e4e40a291012b21e2c57e": {
          "model_module": "@jupyter-widgets/controls",
          "model_name": "HBoxModel",
          "state": {
            "_view_name": "HBoxView",
            "_dom_classes": [],
            "_model_name": "HBoxModel",
            "_view_module": "@jupyter-widgets/controls",
            "_model_module_version": "1.5.0",
            "_view_count": null,
            "_view_module_version": "1.5.0",
            "box_style": "",
            "layout": "IPY_MODEL_119235b4910c49c6b0d5abb71caf18cd",
            "_model_module": "@jupyter-widgets/controls",
            "children": [
              "IPY_MODEL_b8321188c565451abd7cf614cfc4fcea",
              "IPY_MODEL_e2db411ea9b347cc9ff1ccf768334e94"
            ]
          }
        },
        "119235b4910c49c6b0d5abb71caf18cd": {
          "model_module": "@jupyter-widgets/base",
          "model_name": "LayoutModel",
          "state": {
            "_view_name": "LayoutView",
            "grid_template_rows": null,
            "right": null,
            "justify_content": null,
            "_view_module": "@jupyter-widgets/base",
            "overflow": null,
            "_model_module_version": "1.2.0",
            "_view_count": null,
            "flex_flow": null,
            "width": null,
            "min_width": null,
            "border": null,
            "align_items": null,
            "bottom": null,
            "_model_module": "@jupyter-widgets/base",
            "top": null,
            "grid_column": null,
            "overflow_y": null,
            "overflow_x": null,
            "grid_auto_flow": null,
            "grid_area": null,
            "grid_template_columns": null,
            "flex": null,
            "_model_name": "LayoutModel",
            "justify_items": null,
            "grid_row": null,
            "max_height": null,
            "align_content": null,
            "visibility": null,
            "align_self": null,
            "height": null,
            "min_height": null,
            "padding": null,
            "grid_auto_rows": null,
            "grid_gap": null,
            "max_width": null,
            "order": null,
            "_view_module_version": "1.2.0",
            "grid_template_areas": null,
            "object_position": null,
            "object_fit": null,
            "grid_auto_columns": null,
            "margin": null,
            "display": null,
            "left": null
          }
        },
        "b8321188c565451abd7cf614cfc4fcea": {
          "model_module": "@jupyter-widgets/controls",
          "model_name": "FloatProgressModel",
          "state": {
            "_view_name": "ProgressView",
            "style": "IPY_MODEL_e418325d94f44336ba6c03b1d3c7741b",
            "_dom_classes": [],
            "description": "  0%",
            "_model_name": "FloatProgressModel",
            "bar_style": "danger",
            "max": 3668,
            "_view_module": "@jupyter-widgets/controls",
            "_model_module_version": "1.5.0",
            "value": 0,
            "_view_count": null,
            "_view_module_version": "1.5.0",
            "orientation": "horizontal",
            "min": 0,
            "description_tooltip": null,
            "_model_module": "@jupyter-widgets/controls",
            "layout": "IPY_MODEL_d87068fdd1824f498535d07f6e51e87a"
          }
        },
        "e2db411ea9b347cc9ff1ccf768334e94": {
          "model_module": "@jupyter-widgets/controls",
          "model_name": "HTMLModel",
          "state": {
            "_view_name": "HTMLView",
            "style": "IPY_MODEL_95e5784e1e7343119fb4408c2fb4a0c8",
            "_dom_classes": [],
            "description": "",
            "_model_name": "HTMLModel",
            "placeholder": "​",
            "_view_module": "@jupyter-widgets/controls",
            "_model_module_version": "1.5.0",
            "value": " 0/3668 [00:00&lt;?, ? examples/s]",
            "_view_count": null,
            "_view_module_version": "1.5.0",
            "description_tooltip": null,
            "_model_module": "@jupyter-widgets/controls",
            "layout": "IPY_MODEL_3bbeec1530374e88bd882a93132997ff"
          }
        },
        "e418325d94f44336ba6c03b1d3c7741b": {
          "model_module": "@jupyter-widgets/controls",
          "model_name": "ProgressStyleModel",
          "state": {
            "_view_name": "StyleView",
            "_model_name": "ProgressStyleModel",
            "description_width": "initial",
            "_view_module": "@jupyter-widgets/base",
            "_model_module_version": "1.5.0",
            "_view_count": null,
            "_view_module_version": "1.2.0",
            "bar_color": null,
            "_model_module": "@jupyter-widgets/controls"
          }
        },
        "d87068fdd1824f498535d07f6e51e87a": {
          "model_module": "@jupyter-widgets/base",
          "model_name": "LayoutModel",
          "state": {
            "_view_name": "LayoutView",
            "grid_template_rows": null,
            "right": null,
            "justify_content": null,
            "_view_module": "@jupyter-widgets/base",
            "overflow": null,
            "_model_module_version": "1.2.0",
            "_view_count": null,
            "flex_flow": null,
            "width": null,
            "min_width": null,
            "border": null,
            "align_items": null,
            "bottom": null,
            "_model_module": "@jupyter-widgets/base",
            "top": null,
            "grid_column": null,
            "overflow_y": null,
            "overflow_x": null,
            "grid_auto_flow": null,
            "grid_area": null,
            "grid_template_columns": null,
            "flex": null,
            "_model_name": "LayoutModel",
            "justify_items": null,
            "grid_row": null,
            "max_height": null,
            "align_content": null,
            "visibility": null,
            "align_self": null,
            "height": null,
            "min_height": null,
            "padding": null,
            "grid_auto_rows": null,
            "grid_gap": null,
            "max_width": null,
            "order": null,
            "_view_module_version": "1.2.0",
            "grid_template_areas": null,
            "object_position": null,
            "object_fit": null,
            "grid_auto_columns": null,
            "margin": null,
            "display": null,
            "left": null
          }
        },
        "95e5784e1e7343119fb4408c2fb4a0c8": {
          "model_module": "@jupyter-widgets/controls",
          "model_name": "DescriptionStyleModel",
          "state": {
            "_view_name": "StyleView",
            "_model_name": "DescriptionStyleModel",
            "description_width": "",
            "_view_module": "@jupyter-widgets/base",
            "_model_module_version": "1.5.0",
            "_view_count": null,
            "_view_module_version": "1.2.0",
            "_model_module": "@jupyter-widgets/controls"
          }
        },
        "3bbeec1530374e88bd882a93132997ff": {
          "model_module": "@jupyter-widgets/base",
          "model_name": "LayoutModel",
          "state": {
            "_view_name": "LayoutView",
            "grid_template_rows": null,
            "right": null,
            "justify_content": null,
            "_view_module": "@jupyter-widgets/base",
            "overflow": null,
            "_model_module_version": "1.2.0",
            "_view_count": null,
            "flex_flow": null,
            "width": null,
            "min_width": null,
            "border": null,
            "align_items": null,
            "bottom": null,
            "_model_module": "@jupyter-widgets/base",
            "top": null,
            "grid_column": null,
            "overflow_y": null,
            "overflow_x": null,
            "grid_auto_flow": null,
            "grid_area": null,
            "grid_template_columns": null,
            "flex": null,
            "_model_name": "LayoutModel",
            "justify_items": null,
            "grid_row": null,
            "max_height": null,
            "align_content": null,
            "visibility": null,
            "align_self": null,
            "height": null,
            "min_height": null,
            "padding": null,
            "grid_auto_rows": null,
            "grid_gap": null,
            "max_width": null,
            "order": null,
            "_view_module_version": "1.2.0",
            "grid_template_areas": null,
            "object_position": null,
            "object_fit": null,
            "grid_auto_columns": null,
            "margin": null,
            "display": null,
            "left": null
          }
        },
        "8a160e9dab92480d85205fc287821354": {
          "model_module": "@jupyter-widgets/controls",
          "model_name": "HBoxModel",
          "state": {
            "_view_name": "HBoxView",
            "_dom_classes": [],
            "_model_name": "HBoxModel",
            "_view_module": "@jupyter-widgets/controls",
            "_model_module_version": "1.5.0",
            "_view_count": null,
            "_view_module_version": "1.5.0",
            "box_style": "",
            "layout": "IPY_MODEL_3fef34047a8846e586c6f11baf7c5e39",
            "_model_module": "@jupyter-widgets/controls",
            "children": [
              "IPY_MODEL_6732635905e3477aacb54837938fa2ac",
              "IPY_MODEL_affe4b3e1ac64d3a895546a9cfeed75c"
            ]
          }
        },
        "3fef34047a8846e586c6f11baf7c5e39": {
          "model_module": "@jupyter-widgets/base",
          "model_name": "LayoutModel",
          "state": {
            "_view_name": "LayoutView",
            "grid_template_rows": null,
            "right": null,
            "justify_content": null,
            "_view_module": "@jupyter-widgets/base",
            "overflow": null,
            "_model_module_version": "1.2.0",
            "_view_count": null,
            "flex_flow": null,
            "width": null,
            "min_width": null,
            "border": null,
            "align_items": null,
            "bottom": null,
            "_model_module": "@jupyter-widgets/base",
            "top": null,
            "grid_column": null,
            "overflow_y": null,
            "overflow_x": null,
            "grid_auto_flow": null,
            "grid_area": null,
            "grid_template_columns": null,
            "flex": null,
            "_model_name": "LayoutModel",
            "justify_items": null,
            "grid_row": null,
            "max_height": null,
            "align_content": null,
            "visibility": null,
            "align_self": null,
            "height": null,
            "min_height": null,
            "padding": null,
            "grid_auto_rows": null,
            "grid_gap": null,
            "max_width": null,
            "order": null,
            "_view_module_version": "1.2.0",
            "grid_template_areas": null,
            "object_position": null,
            "object_fit": null,
            "grid_auto_columns": null,
            "margin": null,
            "display": null,
            "left": null
          }
        },
        "6732635905e3477aacb54837938fa2ac": {
          "model_module": "@jupyter-widgets/controls",
          "model_name": "FloatProgressModel",
          "state": {
            "_view_name": "ProgressView",
            "style": "IPY_MODEL_c382e07e678e416f947635ff81a09fda",
            "_dom_classes": [],
            "description": "",
            "_model_name": "FloatProgressModel",
            "bar_style": "info",
            "max": 1,
            "_view_module": "@jupyter-widgets/controls",
            "_model_module_version": "1.5.0",
            "value": 1,
            "_view_count": null,
            "_view_module_version": "1.5.0",
            "orientation": "horizontal",
            "min": 0,
            "description_tooltip": null,
            "_model_module": "@jupyter-widgets/controls",
            "layout": "IPY_MODEL_6e7814f98c224b038bc199f8598c3286"
          }
        },
        "affe4b3e1ac64d3a895546a9cfeed75c": {
          "model_module": "@jupyter-widgets/controls",
          "model_name": "HTMLModel",
          "state": {
            "_view_name": "HTMLView",
            "style": "IPY_MODEL_721bf2d8f253470c81cc00d2078c352b",
            "_dom_classes": [],
            "description": "",
            "_model_name": "HTMLModel",
            "placeholder": "​",
            "_view_module": "@jupyter-widgets/controls",
            "_model_module_version": "1.5.0",
            "value": " 408/0 [00:00&lt;00:00, 1449.62 examples/s]",
            "_view_count": null,
            "_view_module_version": "1.5.0",
            "description_tooltip": null,
            "_model_module": "@jupyter-widgets/controls",
            "layout": "IPY_MODEL_27dfa965ab3945539b95db1130402046"
          }
        },
        "c382e07e678e416f947635ff81a09fda": {
          "model_module": "@jupyter-widgets/controls",
          "model_name": "ProgressStyleModel",
          "state": {
            "_view_name": "StyleView",
            "_model_name": "ProgressStyleModel",
            "description_width": "initial",
            "_view_module": "@jupyter-widgets/base",
            "_model_module_version": "1.5.0",
            "_view_count": null,
            "_view_module_version": "1.2.0",
            "bar_color": null,
            "_model_module": "@jupyter-widgets/controls"
          }
        },
        "6e7814f98c224b038bc199f8598c3286": {
          "model_module": "@jupyter-widgets/base",
          "model_name": "LayoutModel",
          "state": {
            "_view_name": "LayoutView",
            "grid_template_rows": null,
            "right": null,
            "justify_content": null,
            "_view_module": "@jupyter-widgets/base",
            "overflow": null,
            "_model_module_version": "1.2.0",
            "_view_count": null,
            "flex_flow": null,
            "width": null,
            "min_width": null,
            "border": null,
            "align_items": null,
            "bottom": null,
            "_model_module": "@jupyter-widgets/base",
            "top": null,
            "grid_column": null,
            "overflow_y": null,
            "overflow_x": null,
            "grid_auto_flow": null,
            "grid_area": null,
            "grid_template_columns": null,
            "flex": null,
            "_model_name": "LayoutModel",
            "justify_items": null,
            "grid_row": null,
            "max_height": null,
            "align_content": null,
            "visibility": null,
            "align_self": null,
            "height": null,
            "min_height": null,
            "padding": null,
            "grid_auto_rows": null,
            "grid_gap": null,
            "max_width": null,
            "order": null,
            "_view_module_version": "1.2.0",
            "grid_template_areas": null,
            "object_position": null,
            "object_fit": null,
            "grid_auto_columns": null,
            "margin": null,
            "display": null,
            "left": null
          }
        },
        "721bf2d8f253470c81cc00d2078c352b": {
          "model_module": "@jupyter-widgets/controls",
          "model_name": "DescriptionStyleModel",
          "state": {
            "_view_name": "StyleView",
            "_model_name": "DescriptionStyleModel",
            "description_width": "",
            "_view_module": "@jupyter-widgets/base",
            "_model_module_version": "1.5.0",
            "_view_count": null,
            "_view_module_version": "1.2.0",
            "_model_module": "@jupyter-widgets/controls"
          }
        },
        "27dfa965ab3945539b95db1130402046": {
          "model_module": "@jupyter-widgets/base",
          "model_name": "LayoutModel",
          "state": {
            "_view_name": "LayoutView",
            "grid_template_rows": null,
            "right": null,
            "justify_content": null,
            "_view_module": "@jupyter-widgets/base",
            "overflow": null,
            "_model_module_version": "1.2.0",
            "_view_count": null,
            "flex_flow": null,
            "width": null,
            "min_width": null,
            "border": null,
            "align_items": null,
            "bottom": null,
            "_model_module": "@jupyter-widgets/base",
            "top": null,
            "grid_column": null,
            "overflow_y": null,
            "overflow_x": null,
            "grid_auto_flow": null,
            "grid_area": null,
            "grid_template_columns": null,
            "flex": null,
            "_model_name": "LayoutModel",
            "justify_items": null,
            "grid_row": null,
            "max_height": null,
            "align_content": null,
            "visibility": null,
            "align_self": null,
            "height": null,
            "min_height": null,
            "padding": null,
            "grid_auto_rows": null,
            "grid_gap": null,
            "max_width": null,
            "order": null,
            "_view_module_version": "1.2.0",
            "grid_template_areas": null,
            "object_position": null,
            "object_fit": null,
            "grid_auto_columns": null,
            "margin": null,
            "display": null,
            "left": null
          }
        },
        "466d961b718d4b199fe2022c9957aa49": {
          "model_module": "@jupyter-widgets/controls",
          "model_name": "HBoxModel",
          "state": {
            "_view_name": "HBoxView",
            "_dom_classes": [],
            "_model_name": "HBoxModel",
            "_view_module": "@jupyter-widgets/controls",
            "_model_module_version": "1.5.0",
            "_view_count": null,
            "_view_module_version": "1.5.0",
            "box_style": "",
            "layout": "IPY_MODEL_b79a548e745b4685b97ee22acde2d74d",
            "_model_module": "@jupyter-widgets/controls",
            "children": [
              "IPY_MODEL_180938380d594fbba308d3ca4b157d28",
              "IPY_MODEL_40a3a7fac4fc40e6b8d351c24d465dab"
            ]
          }
        },
        "b79a548e745b4685b97ee22acde2d74d": {
          "model_module": "@jupyter-widgets/base",
          "model_name": "LayoutModel",
          "state": {
            "_view_name": "LayoutView",
            "grid_template_rows": null,
            "right": null,
            "justify_content": null,
            "_view_module": "@jupyter-widgets/base",
            "overflow": null,
            "_model_module_version": "1.2.0",
            "_view_count": null,
            "flex_flow": null,
            "width": null,
            "min_width": null,
            "border": null,
            "align_items": null,
            "bottom": null,
            "_model_module": "@jupyter-widgets/base",
            "top": null,
            "grid_column": null,
            "overflow_y": null,
            "overflow_x": null,
            "grid_auto_flow": null,
            "grid_area": null,
            "grid_template_columns": null,
            "flex": null,
            "_model_name": "LayoutModel",
            "justify_items": null,
            "grid_row": null,
            "max_height": null,
            "align_content": null,
            "visibility": null,
            "align_self": null,
            "height": null,
            "min_height": null,
            "padding": null,
            "grid_auto_rows": null,
            "grid_gap": null,
            "max_width": null,
            "order": null,
            "_view_module_version": "1.2.0",
            "grid_template_areas": null,
            "object_position": null,
            "object_fit": null,
            "grid_auto_columns": null,
            "margin": null,
            "display": null,
            "left": null
          }
        },
        "180938380d594fbba308d3ca4b157d28": {
          "model_module": "@jupyter-widgets/controls",
          "model_name": "FloatProgressModel",
          "state": {
            "_view_name": "ProgressView",
            "style": "IPY_MODEL_210a5a1dc8694565b490b12a352dc1f9",
            "_dom_classes": [],
            "description": "  0%",
            "_model_name": "FloatProgressModel",
            "bar_style": "danger",
            "max": 408,
            "_view_module": "@jupyter-widgets/controls",
            "_model_module_version": "1.5.0",
            "value": 0,
            "_view_count": null,
            "_view_module_version": "1.5.0",
            "orientation": "horizontal",
            "min": 0,
            "description_tooltip": null,
            "_model_module": "@jupyter-widgets/controls",
            "layout": "IPY_MODEL_dcf3b659dc0241bcb628f044f88adc81"
          }
        },
        "40a3a7fac4fc40e6b8d351c24d465dab": {
          "model_module": "@jupyter-widgets/controls",
          "model_name": "HTMLModel",
          "state": {
            "_view_name": "HTMLView",
            "style": "IPY_MODEL_89497e43a78e48e5a697287a2fa217e5",
            "_dom_classes": [],
            "description": "",
            "_model_name": "HTMLModel",
            "placeholder": "​",
            "_view_module": "@jupyter-widgets/controls",
            "_model_module_version": "1.5.0",
            "value": " 0/408 [00:00&lt;?, ? examples/s]",
            "_view_count": null,
            "_view_module_version": "1.5.0",
            "description_tooltip": null,
            "_model_module": "@jupyter-widgets/controls",
            "layout": "IPY_MODEL_2b2c17cbb9d04802a6910e12a77b15bb"
          }
        },
        "210a5a1dc8694565b490b12a352dc1f9": {
          "model_module": "@jupyter-widgets/controls",
          "model_name": "ProgressStyleModel",
          "state": {
            "_view_name": "StyleView",
            "_model_name": "ProgressStyleModel",
            "description_width": "initial",
            "_view_module": "@jupyter-widgets/base",
            "_model_module_version": "1.5.0",
            "_view_count": null,
            "_view_module_version": "1.2.0",
            "bar_color": null,
            "_model_module": "@jupyter-widgets/controls"
          }
        },
        "dcf3b659dc0241bcb628f044f88adc81": {
          "model_module": "@jupyter-widgets/base",
          "model_name": "LayoutModel",
          "state": {
            "_view_name": "LayoutView",
            "grid_template_rows": null,
            "right": null,
            "justify_content": null,
            "_view_module": "@jupyter-widgets/base",
            "overflow": null,
            "_model_module_version": "1.2.0",
            "_view_count": null,
            "flex_flow": null,
            "width": null,
            "min_width": null,
            "border": null,
            "align_items": null,
            "bottom": null,
            "_model_module": "@jupyter-widgets/base",
            "top": null,
            "grid_column": null,
            "overflow_y": null,
            "overflow_x": null,
            "grid_auto_flow": null,
            "grid_area": null,
            "grid_template_columns": null,
            "flex": null,
            "_model_name": "LayoutModel",
            "justify_items": null,
            "grid_row": null,
            "max_height": null,
            "align_content": null,
            "visibility": null,
            "align_self": null,
            "height": null,
            "min_height": null,
            "padding": null,
            "grid_auto_rows": null,
            "grid_gap": null,
            "max_width": null,
            "order": null,
            "_view_module_version": "1.2.0",
            "grid_template_areas": null,
            "object_position": null,
            "object_fit": null,
            "grid_auto_columns": null,
            "margin": null,
            "display": null,
            "left": null
          }
        },
        "89497e43a78e48e5a697287a2fa217e5": {
          "model_module": "@jupyter-widgets/controls",
          "model_name": "DescriptionStyleModel",
          "state": {
            "_view_name": "StyleView",
            "_model_name": "DescriptionStyleModel",
            "description_width": "",
            "_view_module": "@jupyter-widgets/base",
            "_model_module_version": "1.5.0",
            "_view_count": null,
            "_view_module_version": "1.2.0",
            "_model_module": "@jupyter-widgets/controls"
          }
        },
        "2b2c17cbb9d04802a6910e12a77b15bb": {
          "model_module": "@jupyter-widgets/base",
          "model_name": "LayoutModel",
          "state": {
            "_view_name": "LayoutView",
            "grid_template_rows": null,
            "right": null,
            "justify_content": null,
            "_view_module": "@jupyter-widgets/base",
            "overflow": null,
            "_model_module_version": "1.2.0",
            "_view_count": null,
            "flex_flow": null,
            "width": null,
            "min_width": null,
            "border": null,
            "align_items": null,
            "bottom": null,
            "_model_module": "@jupyter-widgets/base",
            "top": null,
            "grid_column": null,
            "overflow_y": null,
            "overflow_x": null,
            "grid_auto_flow": null,
            "grid_area": null,
            "grid_template_columns": null,
            "flex": null,
            "_model_name": "LayoutModel",
            "justify_items": null,
            "grid_row": null,
            "max_height": null,
            "align_content": null,
            "visibility": null,
            "align_self": null,
            "height": null,
            "min_height": null,
            "padding": null,
            "grid_auto_rows": null,
            "grid_gap": null,
            "max_width": null,
            "order": null,
            "_view_module_version": "1.2.0",
            "grid_template_areas": null,
            "object_position": null,
            "object_fit": null,
            "grid_auto_columns": null,
            "margin": null,
            "display": null,
            "left": null
          }
        },
        "d92d11805a3346b58a661b19ff3ad215": {
          "model_module": "@jupyter-widgets/controls",
          "model_name": "HBoxModel",
          "state": {
            "_view_name": "HBoxView",
            "_dom_classes": [],
            "_model_name": "HBoxModel",
            "_view_module": "@jupyter-widgets/controls",
            "_model_module_version": "1.5.0",
            "_view_count": null,
            "_view_module_version": "1.5.0",
            "box_style": "",
            "layout": "IPY_MODEL_958565e623d641429ec9ead282ad7f9e",
            "_model_module": "@jupyter-widgets/controls",
            "children": [
              "IPY_MODEL_84c6e2c99e544023b46bf0d88fcd3276",
              "IPY_MODEL_9b33176ffc0c4b889ac94e071fbfd64b"
            ]
          }
        },
        "958565e623d641429ec9ead282ad7f9e": {
          "model_module": "@jupyter-widgets/base",
          "model_name": "LayoutModel",
          "state": {
            "_view_name": "LayoutView",
            "grid_template_rows": null,
            "right": null,
            "justify_content": null,
            "_view_module": "@jupyter-widgets/base",
            "overflow": null,
            "_model_module_version": "1.2.0",
            "_view_count": null,
            "flex_flow": null,
            "width": null,
            "min_width": null,
            "border": null,
            "align_items": null,
            "bottom": null,
            "_model_module": "@jupyter-widgets/base",
            "top": null,
            "grid_column": null,
            "overflow_y": null,
            "overflow_x": null,
            "grid_auto_flow": null,
            "grid_area": null,
            "grid_template_columns": null,
            "flex": null,
            "_model_name": "LayoutModel",
            "justify_items": null,
            "grid_row": null,
            "max_height": null,
            "align_content": null,
            "visibility": null,
            "align_self": null,
            "height": null,
            "min_height": null,
            "padding": null,
            "grid_auto_rows": null,
            "grid_gap": null,
            "max_width": null,
            "order": null,
            "_view_module_version": "1.2.0",
            "grid_template_areas": null,
            "object_position": null,
            "object_fit": null,
            "grid_auto_columns": null,
            "margin": null,
            "display": null,
            "left": null
          }
        },
        "84c6e2c99e544023b46bf0d88fcd3276": {
          "model_module": "@jupyter-widgets/controls",
          "model_name": "FloatProgressModel",
          "state": {
            "_view_name": "ProgressView",
            "style": "IPY_MODEL_7e931f482a40476fb5fa8fa6af74d1d1",
            "_dom_classes": [],
            "description": "",
            "_model_name": "FloatProgressModel",
            "bar_style": "info",
            "max": 1,
            "_view_module": "@jupyter-widgets/controls",
            "_model_module_version": "1.5.0",
            "value": 1,
            "_view_count": null,
            "_view_module_version": "1.5.0",
            "orientation": "horizontal",
            "min": 0,
            "description_tooltip": null,
            "_model_module": "@jupyter-widgets/controls",
            "layout": "IPY_MODEL_9ca554d78f0042cb9675e72b050e56b2"
          }
        },
        "9b33176ffc0c4b889ac94e071fbfd64b": {
          "model_module": "@jupyter-widgets/controls",
          "model_name": "HTMLModel",
          "state": {
            "_view_name": "HTMLView",
            "style": "IPY_MODEL_74e55d7c431e438a8bcb741ff4473f34",
            "_dom_classes": [],
            "description": "",
            "_model_name": "HTMLModel",
            "placeholder": "​",
            "_view_module": "@jupyter-widgets/controls",
            "_model_module_version": "1.5.0",
            "value": " 1725/0 [00:00&lt;00:00, 2658.37 examples/s]",
            "_view_count": null,
            "_view_module_version": "1.5.0",
            "description_tooltip": null,
            "_model_module": "@jupyter-widgets/controls",
            "layout": "IPY_MODEL_da300584d14d482e9e08e787a566e9ca"
          }
        },
        "7e931f482a40476fb5fa8fa6af74d1d1": {
          "model_module": "@jupyter-widgets/controls",
          "model_name": "ProgressStyleModel",
          "state": {
            "_view_name": "StyleView",
            "_model_name": "ProgressStyleModel",
            "description_width": "initial",
            "_view_module": "@jupyter-widgets/base",
            "_model_module_version": "1.5.0",
            "_view_count": null,
            "_view_module_version": "1.2.0",
            "bar_color": null,
            "_model_module": "@jupyter-widgets/controls"
          }
        },
        "9ca554d78f0042cb9675e72b050e56b2": {
          "model_module": "@jupyter-widgets/base",
          "model_name": "LayoutModel",
          "state": {
            "_view_name": "LayoutView",
            "grid_template_rows": null,
            "right": null,
            "justify_content": null,
            "_view_module": "@jupyter-widgets/base",
            "overflow": null,
            "_model_module_version": "1.2.0",
            "_view_count": null,
            "flex_flow": null,
            "width": null,
            "min_width": null,
            "border": null,
            "align_items": null,
            "bottom": null,
            "_model_module": "@jupyter-widgets/base",
            "top": null,
            "grid_column": null,
            "overflow_y": null,
            "overflow_x": null,
            "grid_auto_flow": null,
            "grid_area": null,
            "grid_template_columns": null,
            "flex": null,
            "_model_name": "LayoutModel",
            "justify_items": null,
            "grid_row": null,
            "max_height": null,
            "align_content": null,
            "visibility": null,
            "align_self": null,
            "height": null,
            "min_height": null,
            "padding": null,
            "grid_auto_rows": null,
            "grid_gap": null,
            "max_width": null,
            "order": null,
            "_view_module_version": "1.2.0",
            "grid_template_areas": null,
            "object_position": null,
            "object_fit": null,
            "grid_auto_columns": null,
            "margin": null,
            "display": null,
            "left": null
          }
        },
        "74e55d7c431e438a8bcb741ff4473f34": {
          "model_module": "@jupyter-widgets/controls",
          "model_name": "DescriptionStyleModel",
          "state": {
            "_view_name": "StyleView",
            "_model_name": "DescriptionStyleModel",
            "description_width": "",
            "_view_module": "@jupyter-widgets/base",
            "_model_module_version": "1.5.0",
            "_view_count": null,
            "_view_module_version": "1.2.0",
            "_model_module": "@jupyter-widgets/controls"
          }
        },
        "da300584d14d482e9e08e787a566e9ca": {
          "model_module": "@jupyter-widgets/base",
          "model_name": "LayoutModel",
          "state": {
            "_view_name": "LayoutView",
            "grid_template_rows": null,
            "right": null,
            "justify_content": null,
            "_view_module": "@jupyter-widgets/base",
            "overflow": null,
            "_model_module_version": "1.2.0",
            "_view_count": null,
            "flex_flow": null,
            "width": null,
            "min_width": null,
            "border": null,
            "align_items": null,
            "bottom": null,
            "_model_module": "@jupyter-widgets/base",
            "top": null,
            "grid_column": null,
            "overflow_y": null,
            "overflow_x": null,
            "grid_auto_flow": null,
            "grid_area": null,
            "grid_template_columns": null,
            "flex": null,
            "_model_name": "LayoutModel",
            "justify_items": null,
            "grid_row": null,
            "max_height": null,
            "align_content": null,
            "visibility": null,
            "align_self": null,
            "height": null,
            "min_height": null,
            "padding": null,
            "grid_auto_rows": null,
            "grid_gap": null,
            "max_width": null,
            "order": null,
            "_view_module_version": "1.2.0",
            "grid_template_areas": null,
            "object_position": null,
            "object_fit": null,
            "grid_auto_columns": null,
            "margin": null,
            "display": null,
            "left": null
          }
        },
        "867a0af33cad419eba563fe2520dc8a9": {
          "model_module": "@jupyter-widgets/controls",
          "model_name": "HBoxModel",
          "state": {
            "_view_name": "HBoxView",
            "_dom_classes": [],
            "_model_name": "HBoxModel",
            "_view_module": "@jupyter-widgets/controls",
            "_model_module_version": "1.5.0",
            "_view_count": null,
            "_view_module_version": "1.5.0",
            "box_style": "",
            "layout": "IPY_MODEL_7e78d5d0c88f460da35453f07fa09ff5",
            "_model_module": "@jupyter-widgets/controls",
            "children": [
              "IPY_MODEL_542b254f27464d11b8d34ad665edfcb4",
              "IPY_MODEL_0ee855c33d4442e2aa0e906b0bc38a4b"
            ]
          }
        },
        "7e78d5d0c88f460da35453f07fa09ff5": {
          "model_module": "@jupyter-widgets/base",
          "model_name": "LayoutModel",
          "state": {
            "_view_name": "LayoutView",
            "grid_template_rows": null,
            "right": null,
            "justify_content": null,
            "_view_module": "@jupyter-widgets/base",
            "overflow": null,
            "_model_module_version": "1.2.0",
            "_view_count": null,
            "flex_flow": null,
            "width": null,
            "min_width": null,
            "border": null,
            "align_items": null,
            "bottom": null,
            "_model_module": "@jupyter-widgets/base",
            "top": null,
            "grid_column": null,
            "overflow_y": null,
            "overflow_x": null,
            "grid_auto_flow": null,
            "grid_area": null,
            "grid_template_columns": null,
            "flex": null,
            "_model_name": "LayoutModel",
            "justify_items": null,
            "grid_row": null,
            "max_height": null,
            "align_content": null,
            "visibility": null,
            "align_self": null,
            "height": null,
            "min_height": null,
            "padding": null,
            "grid_auto_rows": null,
            "grid_gap": null,
            "max_width": null,
            "order": null,
            "_view_module_version": "1.2.0",
            "grid_template_areas": null,
            "object_position": null,
            "object_fit": null,
            "grid_auto_columns": null,
            "margin": null,
            "display": null,
            "left": null
          }
        },
        "542b254f27464d11b8d34ad665edfcb4": {
          "model_module": "@jupyter-widgets/controls",
          "model_name": "FloatProgressModel",
          "state": {
            "_view_name": "ProgressView",
            "style": "IPY_MODEL_19c7f50026624e23bb9af818822a7fd7",
            "_dom_classes": [],
            "description": "  0%",
            "_model_name": "FloatProgressModel",
            "bar_style": "danger",
            "max": 1725,
            "_view_module": "@jupyter-widgets/controls",
            "_model_module_version": "1.5.0",
            "value": 0,
            "_view_count": null,
            "_view_module_version": "1.5.0",
            "orientation": "horizontal",
            "min": 0,
            "description_tooltip": null,
            "_model_module": "@jupyter-widgets/controls",
            "layout": "IPY_MODEL_5116950cb46244eeb64300f3891affcc"
          }
        },
        "0ee855c33d4442e2aa0e906b0bc38a4b": {
          "model_module": "@jupyter-widgets/controls",
          "model_name": "HTMLModel",
          "state": {
            "_view_name": "HTMLView",
            "style": "IPY_MODEL_d766b30efab04017ba8a2163cad313d1",
            "_dom_classes": [],
            "description": "",
            "_model_name": "HTMLModel",
            "placeholder": "​",
            "_view_module": "@jupyter-widgets/controls",
            "_model_module_version": "1.5.0",
            "value": " 0/1725 [00:00&lt;?, ? examples/s]",
            "_view_count": null,
            "_view_module_version": "1.5.0",
            "description_tooltip": null,
            "_model_module": "@jupyter-widgets/controls",
            "layout": "IPY_MODEL_3596565c0ca94bc497f652002177c727"
          }
        },
        "19c7f50026624e23bb9af818822a7fd7": {
          "model_module": "@jupyter-widgets/controls",
          "model_name": "ProgressStyleModel",
          "state": {
            "_view_name": "StyleView",
            "_model_name": "ProgressStyleModel",
            "description_width": "initial",
            "_view_module": "@jupyter-widgets/base",
            "_model_module_version": "1.5.0",
            "_view_count": null,
            "_view_module_version": "1.2.0",
            "bar_color": null,
            "_model_module": "@jupyter-widgets/controls"
          }
        },
        "5116950cb46244eeb64300f3891affcc": {
          "model_module": "@jupyter-widgets/base",
          "model_name": "LayoutModel",
          "state": {
            "_view_name": "LayoutView",
            "grid_template_rows": null,
            "right": null,
            "justify_content": null,
            "_view_module": "@jupyter-widgets/base",
            "overflow": null,
            "_model_module_version": "1.2.0",
            "_view_count": null,
            "flex_flow": null,
            "width": null,
            "min_width": null,
            "border": null,
            "align_items": null,
            "bottom": null,
            "_model_module": "@jupyter-widgets/base",
            "top": null,
            "grid_column": null,
            "overflow_y": null,
            "overflow_x": null,
            "grid_auto_flow": null,
            "grid_area": null,
            "grid_template_columns": null,
            "flex": null,
            "_model_name": "LayoutModel",
            "justify_items": null,
            "grid_row": null,
            "max_height": null,
            "align_content": null,
            "visibility": null,
            "align_self": null,
            "height": null,
            "min_height": null,
            "padding": null,
            "grid_auto_rows": null,
            "grid_gap": null,
            "max_width": null,
            "order": null,
            "_view_module_version": "1.2.0",
            "grid_template_areas": null,
            "object_position": null,
            "object_fit": null,
            "grid_auto_columns": null,
            "margin": null,
            "display": null,
            "left": null
          }
        },
        "d766b30efab04017ba8a2163cad313d1": {
          "model_module": "@jupyter-widgets/controls",
          "model_name": "DescriptionStyleModel",
          "state": {
            "_view_name": "StyleView",
            "_model_name": "DescriptionStyleModel",
            "description_width": "",
            "_view_module": "@jupyter-widgets/base",
            "_model_module_version": "1.5.0",
            "_view_count": null,
            "_view_module_version": "1.2.0",
            "_model_module": "@jupyter-widgets/controls"
          }
        },
        "3596565c0ca94bc497f652002177c727": {
          "model_module": "@jupyter-widgets/base",
          "model_name": "LayoutModel",
          "state": {
            "_view_name": "LayoutView",
            "grid_template_rows": null,
            "right": null,
            "justify_content": null,
            "_view_module": "@jupyter-widgets/base",
            "overflow": null,
            "_model_module_version": "1.2.0",
            "_view_count": null,
            "flex_flow": null,
            "width": null,
            "min_width": null,
            "border": null,
            "align_items": null,
            "bottom": null,
            "_model_module": "@jupyter-widgets/base",
            "top": null,
            "grid_column": null,
            "overflow_y": null,
            "overflow_x": null,
            "grid_auto_flow": null,
            "grid_area": null,
            "grid_template_columns": null,
            "flex": null,
            "_model_name": "LayoutModel",
            "justify_items": null,
            "grid_row": null,
            "max_height": null,
            "align_content": null,
            "visibility": null,
            "align_self": null,
            "height": null,
            "min_height": null,
            "padding": null,
            "grid_auto_rows": null,
            "grid_gap": null,
            "max_width": null,
            "order": null,
            "_view_module_version": "1.2.0",
            "grid_template_areas": null,
            "object_position": null,
            "object_fit": null,
            "grid_auto_columns": null,
            "margin": null,
            "display": null,
            "left": null
          }
        }
      }
    }
  },
  "cells": [
    {
      "cell_type": "markdown",
      "metadata": {
        "id": "view-in-github",
        "colab_type": "text"
      },
      "source": [
        "<a href=\"https://colab.research.google.com/github/DiegoSnach/GLUE-Benchmark/blob/master/3_FINAL_MPRC_SiameseLSTM_Glove.ipynb\" target=\"_parent\"><img src=\"https://colab.research.google.com/assets/colab-badge.svg\" alt=\"Open In Colab\"/></a>"
      ]
    },
    {
      "cell_type": "code",
      "metadata": {
        "id": "wWGdbfRdslZm",
        "colab_type": "code",
        "colab": {
          "base_uri": "https://localhost:8080/",
          "height": 70
        },
        "outputId": "470882a0-f3e2-4c48-df74-720975f517c1"
      },
      "source": [
        "from time import time\n",
        "import datetime\n",
        "import pandas as pd\n",
        "import numpy as np\n",
        "import re\n",
        "import os\n",
        "import itertools\n",
        "from sklearn.model_selection import train_test_split\n",
        "import matplotlib.pyplot as plt\n",
        "import seaborn as sns\n",
        "\n",
        "from keras.preprocessing.sequence import pad_sequences\n",
        "from keras.models import Model\n",
        "from keras.layers import Input, Embedding, LSTM, Lambda\n",
        "import keras.backend as K\n",
        "from keras.optimizers import Adadelta\n",
        "from keras.callbacks import ModelCheckpoint\n",
        "\n",
        "import tensorflow as tf \n",
        "import tensorflow_hub as hub\n",
        "import tensorflow_datasets as tfds\n",
        "\n",
        "print(\"GPU is\", \"available\" if tf.config.list_physical_devices('GPU') else \"NOT AVAILABLE\")"
      ],
      "execution_count": null,
      "outputs": [
        {
          "output_type": "stream",
          "text": [
            "/usr/local/lib/python3.6/dist-packages/statsmodels/tools/_testing.py:19: FutureWarning: pandas.util.testing is deprecated. Use the functions in the public API at pandas.testing instead.\n",
            "  import pandas.util.testing as tm\n"
          ],
          "name": "stderr"
        },
        {
          "output_type": "stream",
          "text": [
            "GPU is available\n"
          ],
          "name": "stdout"
        }
      ]
    },
    {
      "cell_type": "code",
      "metadata": {
        "id": "Zt-JDduOtZt4",
        "colab_type": "code",
        "colab": {
          "base_uri": "https://localhost:8080/",
          "height": 463,
          "referenced_widgets": [
            "71d66f44b0db4f65ac96e35b8c1a7ed9",
            "d17159dee96e47909fd34cd35aeb1a53",
            "16833072204a41a4909e9f32503ed52e",
            "d64a9bd3d474471695f3c2ce8e7261af",
            "fca60b623fc24b2f87fdcaad6cee46e4",
            "0877ec2236c448b394c7c06503d2c666",
            "02e81b20cb0d455ebdaf9f9da0fd6458",
            "c5f2cf75f9404320a1d01873bb57dd17",
            "ceafcd7adfba44feb080c4902aa6f203",
            "2ecc3b65199e40b292eaa12e67c30a43",
            "e29665f685be4d1993e88e153c2a903b",
            "a8271a98f628410a851e030b39b49dec",
            "12f81bf71784480e8fd70c4e4a558672",
            "8dab59cd0f694fdcb873e5b2726cfe91",
            "eb21d836d5ae48a48d2e279238a06cb9",
            "0738afbeff5a418688c186b13db32980",
            "700b63d12565458ab20bfaf14ed29df9",
            "d63698ecf6f94ddabda2d43198f7f00d",
            "909886186a9c41a5952057ecaaf462ce",
            "1ee7a9f234b2492ead44cc72097f1ac6",
            "009f93c159ca40a381680c8c440b130a",
            "9700520401b945868feb50d4aa814f7a",
            "75eeb7b89c38445080dbf1b99fe88a23",
            "7b5ada6fc1da4113b206548be60f5b8e",
            "f4746738500e4e40a291012b21e2c57e",
            "119235b4910c49c6b0d5abb71caf18cd",
            "b8321188c565451abd7cf614cfc4fcea",
            "e2db411ea9b347cc9ff1ccf768334e94",
            "e418325d94f44336ba6c03b1d3c7741b",
            "d87068fdd1824f498535d07f6e51e87a",
            "95e5784e1e7343119fb4408c2fb4a0c8",
            "3bbeec1530374e88bd882a93132997ff",
            "8a160e9dab92480d85205fc287821354",
            "3fef34047a8846e586c6f11baf7c5e39",
            "6732635905e3477aacb54837938fa2ac",
            "affe4b3e1ac64d3a895546a9cfeed75c",
            "c382e07e678e416f947635ff81a09fda",
            "6e7814f98c224b038bc199f8598c3286",
            "721bf2d8f253470c81cc00d2078c352b",
            "27dfa965ab3945539b95db1130402046",
            "466d961b718d4b199fe2022c9957aa49",
            "b79a548e745b4685b97ee22acde2d74d",
            "180938380d594fbba308d3ca4b157d28",
            "40a3a7fac4fc40e6b8d351c24d465dab",
            "210a5a1dc8694565b490b12a352dc1f9",
            "dcf3b659dc0241bcb628f044f88adc81",
            "89497e43a78e48e5a697287a2fa217e5",
            "2b2c17cbb9d04802a6910e12a77b15bb",
            "d92d11805a3346b58a661b19ff3ad215",
            "958565e623d641429ec9ead282ad7f9e",
            "84c6e2c99e544023b46bf0d88fcd3276",
            "9b33176ffc0c4b889ac94e071fbfd64b",
            "7e931f482a40476fb5fa8fa6af74d1d1",
            "9ca554d78f0042cb9675e72b050e56b2",
            "74e55d7c431e438a8bcb741ff4473f34",
            "da300584d14d482e9e08e787a566e9ca",
            "867a0af33cad419eba563fe2520dc8a9",
            "7e78d5d0c88f460da35453f07fa09ff5",
            "542b254f27464d11b8d34ad665edfcb4",
            "0ee855c33d4442e2aa0e906b0bc38a4b",
            "19c7f50026624e23bb9af818822a7fd7",
            "5116950cb46244eeb64300f3891affcc",
            "d766b30efab04017ba8a2163cad313d1",
            "3596565c0ca94bc497f652002177c727"
          ]
        },
        "outputId": "2c940b8e-71ae-4e4d-b6d9-e03196fac301"
      },
      "source": [
        "# if `batch_size=-1`, will return the full dataset as `tf.tensor`s. ABSOLUTELY FUNDAMENTAL!\n",
        "\n",
        "train_data, validation_data = tfds.load(name='glue/mrpc', split=['train', 'validation'], batch_size=-1)"
      ],
      "execution_count": null,
      "outputs": [
        {
          "output_type": "stream",
          "text": [
            "\u001b[1mDownloading and preparing dataset glue/mrpc/1.0.0 (download: 1.43 MiB, generated: Unknown size, total: 1.43 MiB) to /root/tensorflow_datasets/glue/mrpc/1.0.0...\u001b[0m\n"
          ],
          "name": "stdout"
        },
        {
          "output_type": "display_data",
          "data": {
            "application/vnd.jupyter.widget-view+json": {
              "model_id": "71d66f44b0db4f65ac96e35b8c1a7ed9",
              "version_minor": 0,
              "version_major": 2
            },
            "text/plain": [
              "HBox(children=(FloatProgress(value=1.0, bar_style='info', description='Dl Completed...', max=1.0, style=Progre…"
            ]
          },
          "metadata": {
            "tags": []
          }
        },
        {
          "output_type": "display_data",
          "data": {
            "application/vnd.jupyter.widget-view+json": {
              "model_id": "ceafcd7adfba44feb080c4902aa6f203",
              "version_minor": 0,
              "version_major": 2
            },
            "text/plain": [
              "HBox(children=(FloatProgress(value=1.0, bar_style='info', description='Dl Size...', max=1.0, style=ProgressSty…"
            ]
          },
          "metadata": {
            "tags": []
          }
        },
        {
          "output_type": "stream",
          "text": [
            "/usr/local/lib/python3.6/dist-packages/urllib3/connectionpool.py:847: InsecureRequestWarning: Unverified HTTPS request is being made. Adding certificate verification is strongly advised. See: https://urllib3.readthedocs.io/en/latest/advanced-usage.html#ssl-warnings\n",
            "  InsecureRequestWarning)\n",
            "/usr/local/lib/python3.6/dist-packages/urllib3/connectionpool.py:847: InsecureRequestWarning: Unverified HTTPS request is being made. Adding certificate verification is strongly advised. See: https://urllib3.readthedocs.io/en/latest/advanced-usage.html#ssl-warnings\n",
            "  InsecureRequestWarning)\n",
            "/usr/local/lib/python3.6/dist-packages/urllib3/connectionpool.py:847: InsecureRequestWarning: Unverified HTTPS request is being made. Adding certificate verification is strongly advised. See: https://urllib3.readthedocs.io/en/latest/advanced-usage.html#ssl-warnings\n",
            "  InsecureRequestWarning)\n"
          ],
          "name": "stderr"
        },
        {
          "output_type": "stream",
          "text": [
            "\n",
            "\n",
            "\n",
            "\n"
          ],
          "name": "stdout"
        },
        {
          "output_type": "display_data",
          "data": {
            "application/vnd.jupyter.widget-view+json": {
              "model_id": "700b63d12565458ab20bfaf14ed29df9",
              "version_minor": 0,
              "version_major": 2
            },
            "text/plain": [
              "HBox(children=(FloatProgress(value=1.0, bar_style='info', max=1.0), HTML(value='')))"
            ]
          },
          "metadata": {
            "tags": []
          }
        },
        {
          "output_type": "stream",
          "text": [
            "\rShuffling and writing examples to /root/tensorflow_datasets/glue/mrpc/1.0.0.incompleteQ7OTYG/glue-train.tfrecord\n"
          ],
          "name": "stdout"
        },
        {
          "output_type": "display_data",
          "data": {
            "application/vnd.jupyter.widget-view+json": {
              "model_id": "f4746738500e4e40a291012b21e2c57e",
              "version_minor": 0,
              "version_major": 2
            },
            "text/plain": [
              "HBox(children=(FloatProgress(value=0.0, max=3668.0), HTML(value='')))"
            ]
          },
          "metadata": {
            "tags": []
          }
        },
        {
          "output_type": "stream",
          "text": [
            "\r"
          ],
          "name": "stdout"
        },
        {
          "output_type": "display_data",
          "data": {
            "application/vnd.jupyter.widget-view+json": {
              "model_id": "8a160e9dab92480d85205fc287821354",
              "version_minor": 0,
              "version_major": 2
            },
            "text/plain": [
              "HBox(children=(FloatProgress(value=1.0, bar_style='info', max=1.0), HTML(value='')))"
            ]
          },
          "metadata": {
            "tags": []
          }
        },
        {
          "output_type": "stream",
          "text": [
            "\rShuffling and writing examples to /root/tensorflow_datasets/glue/mrpc/1.0.0.incompleteQ7OTYG/glue-validation.tfrecord\n"
          ],
          "name": "stdout"
        },
        {
          "output_type": "display_data",
          "data": {
            "application/vnd.jupyter.widget-view+json": {
              "model_id": "466d961b718d4b199fe2022c9957aa49",
              "version_minor": 0,
              "version_major": 2
            },
            "text/plain": [
              "HBox(children=(FloatProgress(value=0.0, max=408.0), HTML(value='')))"
            ]
          },
          "metadata": {
            "tags": []
          }
        },
        {
          "output_type": "stream",
          "text": [
            "\r"
          ],
          "name": "stdout"
        },
        {
          "output_type": "display_data",
          "data": {
            "application/vnd.jupyter.widget-view+json": {
              "model_id": "d92d11805a3346b58a661b19ff3ad215",
              "version_minor": 0,
              "version_major": 2
            },
            "text/plain": [
              "HBox(children=(FloatProgress(value=1.0, bar_style='info', max=1.0), HTML(value='')))"
            ]
          },
          "metadata": {
            "tags": []
          }
        },
        {
          "output_type": "stream",
          "text": [
            "\rShuffling and writing examples to /root/tensorflow_datasets/glue/mrpc/1.0.0.incompleteQ7OTYG/glue-test.tfrecord\n"
          ],
          "name": "stdout"
        },
        {
          "output_type": "display_data",
          "data": {
            "application/vnd.jupyter.widget-view+json": {
              "model_id": "867a0af33cad419eba563fe2520dc8a9",
              "version_minor": 0,
              "version_major": 2
            },
            "text/plain": [
              "HBox(children=(FloatProgress(value=0.0, max=1725.0), HTML(value='')))"
            ]
          },
          "metadata": {
            "tags": []
          }
        },
        {
          "output_type": "stream",
          "text": [
            "\u001b[1mDataset glue downloaded and prepared to /root/tensorflow_datasets/glue/mrpc/1.0.0. Subsequent calls will reuse this data.\u001b[0m\n"
          ],
          "name": "stdout"
        }
      ]
    },
    {
      "cell_type": "code",
      "metadata": {
        "id": "_WofQ_ohtiJY",
        "colab_type": "code",
        "colab": {
          "base_uri": "https://localhost:8080/",
          "height": 34
        },
        "outputId": "554a9b7e-2216-4d2e-e12a-ecacfb5c0f00"
      },
      "source": [
        "# check dataset\n",
        "\n",
        "train_data.keys()"
      ],
      "execution_count": null,
      "outputs": [
        {
          "output_type": "execute_result",
          "data": {
            "text/plain": [
              "dict_keys(['idx', 'label', 'sentence1', 'sentence2'])"
            ]
          },
          "metadata": {
            "tags": []
          },
          "execution_count": 3
        }
      ]
    },
    {
      "cell_type": "code",
      "metadata": {
        "id": "MzP_QGoQtrYm",
        "colab_type": "code",
        "colab": {}
      },
      "source": [
        "# Convert to dataFrame\n",
        "\n",
        "df_train = pd.DataFrame(data=train_data)\n",
        "df_validation = pd.DataFrame(data=validation_data)"
      ],
      "execution_count": null,
      "outputs": []
    },
    {
      "cell_type": "code",
      "metadata": {
        "id": "4XqpWsIGtuT3",
        "colab_type": "code",
        "colab": {
          "base_uri": "https://localhost:8080/",
          "height": 197
        },
        "outputId": "ba53aa36-bec1-4300-c77f-854ca1f47ca9"
      },
      "source": [
        "df_train.head()"
      ],
      "execution_count": null,
      "outputs": [
        {
          "output_type": "execute_result",
          "data": {
            "text/html": [
              "<div>\n",
              "<style scoped>\n",
              "    .dataframe tbody tr th:only-of-type {\n",
              "        vertical-align: middle;\n",
              "    }\n",
              "\n",
              "    .dataframe tbody tr th {\n",
              "        vertical-align: top;\n",
              "    }\n",
              "\n",
              "    .dataframe thead th {\n",
              "        text-align: right;\n",
              "    }\n",
              "</style>\n",
              "<table border=\"1\" class=\"dataframe\">\n",
              "  <thead>\n",
              "    <tr style=\"text-align: right;\">\n",
              "      <th></th>\n",
              "      <th>idx</th>\n",
              "      <th>label</th>\n",
              "      <th>sentence1</th>\n",
              "      <th>sentence2</th>\n",
              "    </tr>\n",
              "  </thead>\n",
              "  <tbody>\n",
              "    <tr>\n",
              "      <th>0</th>\n",
              "      <td>1680</td>\n",
              "      <td>0</td>\n",
              "      <td>b'The identical rovers will act as robotic geo...</td>\n",
              "      <td>b'The rovers act as robotic geologists , movin...</td>\n",
              "    </tr>\n",
              "    <tr>\n",
              "      <th>1</th>\n",
              "      <td>1456</td>\n",
              "      <td>0</td>\n",
              "      <td>b\"Less than 20 percent of Boise 's sales would...</td>\n",
              "      <td>b\"Less than 20 percent of Boise 's sales would...</td>\n",
              "    </tr>\n",
              "    <tr>\n",
              "      <th>2</th>\n",
              "      <td>3017</td>\n",
              "      <td>1</td>\n",
              "      <td>b'Spider-Man snatched $ 114.7 million in its d...</td>\n",
              "      <td>b'Spider-Man , rated PG-13 , snatched $ 114.7 ...</td>\n",
              "    </tr>\n",
              "    <tr>\n",
              "      <th>3</th>\n",
              "      <td>2896</td>\n",
              "      <td>1</td>\n",
              "      <td>b\"The 2002 second quarter results don 't inclu...</td>\n",
              "      <td>b'The year-ago numbers do not include figures ...</td>\n",
              "    </tr>\n",
              "    <tr>\n",
              "      <th>4</th>\n",
              "      <td>499</td>\n",
              "      <td>0</td>\n",
              "      <td>b'Solomon 5.5 is available initially in the Un...</td>\n",
              "      <td>b'Solomon 5.5 is now available in the U.S. and...</td>\n",
              "    </tr>\n",
              "  </tbody>\n",
              "</table>\n",
              "</div>"
            ],
            "text/plain": [
              "    idx  ...                                          sentence2\n",
              "0  1680  ...  b'The rovers act as robotic geologists , movin...\n",
              "1  1456  ...  b\"Less than 20 percent of Boise 's sales would...\n",
              "2  3017  ...  b'Spider-Man , rated PG-13 , snatched $ 114.7 ...\n",
              "3  2896  ...  b'The year-ago numbers do not include figures ...\n",
              "4   499  ...  b'Solomon 5.5 is now available in the U.S. and...\n",
              "\n",
              "[5 rows x 4 columns]"
            ]
          },
          "metadata": {
            "tags": []
          },
          "execution_count": 5
        }
      ]
    },
    {
      "cell_type": "code",
      "metadata": {
        "id": "4D5ySVq56zWa",
        "colab_type": "code",
        "colab": {
          "base_uri": "https://localhost:8080/",
          "height": 70
        },
        "outputId": "3ef765fb-376b-49b5-b209-fdb21df87f16"
      },
      "source": [
        "print(df_train['sentence1'][0])\n",
        "print(df_train['sentence2'][0])\n",
        "print(df_train['label'][0])\n"
      ],
      "execution_count": null,
      "outputs": [
        {
          "output_type": "stream",
          "text": [
            "b'The identical rovers will act as robotic geologists , searching for evidence of past water .'\n",
            "b'The rovers act as robotic geologists , moving on six wheels .'\n",
            "0\n"
          ],
          "name": "stdout"
        }
      ]
    },
    {
      "cell_type": "code",
      "metadata": {
        "id": "sibFJZRx-laS",
        "colab_type": "code",
        "colab": {}
      },
      "source": [
        "# Creates function to clean data\n",
        "\n",
        "def process_data (data):\n",
        "  punct = \"/-?!.,#$%\\()*+-/:;<=>@[\\\\]^_`{|}~`\" + '\"\"“”’' + '∞θ÷α•à−β∅³π‘₹´°£€\\×™√²—–&'\n",
        "  def clean_the_text (text, punt):\n",
        "    for p in punct:\n",
        "      text = text.replace(p, ' ')\n",
        "      text = text.replace(\"b'\", ' ', 1)\n",
        "      text = text.replace('b\"', ' ', 1)\n",
        "    return text\n",
        "  \n",
        "  data =  data.astype(str).apply(lambda x: clean_the_text(x, punct))\n",
        "  return data  "
      ],
      "execution_count": null,
      "outputs": []
    },
    {
      "cell_type": "code",
      "metadata": {
        "id": "v-32mz3Rt1ZJ",
        "colab_type": "code",
        "colab": {
          "base_uri": "https://localhost:8080/",
          "height": 70
        },
        "outputId": "48903a83-cd01-4788-d7ad-18d78fff9201"
      },
      "source": [
        "# Change the datatypes as they come as tensor object\n",
        "\n",
        "sentence1 = process_data(df_train.sentence1.apply(str))\n",
        "sentence2 = process_data(df_train.sentence2.apply(str))\n",
        "label = df_train.label\n",
        "print(len(sentence1))\n",
        "print(len(sentence2))\n",
        "print(len(label))"
      ],
      "execution_count": null,
      "outputs": [
        {
          "output_type": "stream",
          "text": [
            "3668\n",
            "3668\n",
            "3668\n"
          ],
          "name": "stdout"
        }
      ]
    },
    {
      "cell_type": "code",
      "metadata": {
        "id": "JwCf5JHPt7iP",
        "colab_type": "code",
        "colab": {
          "base_uri": "https://localhost:8080/",
          "height": 70
        },
        "outputId": "3db4052b-f33b-4661-a07e-e3c53024ba0b"
      },
      "source": [
        "# Check lenght of sentence\n",
        "\n",
        "count = sentence1.apply(lambda x: len(str(x).split()))\n",
        "print('Mean: %f' % (count.mean()))\n",
        "print('Median: %f' % (count.median()))\n",
        "print('Max: %f' % (count.max()))"
      ],
      "execution_count": null,
      "outputs": [
        {
          "output_type": "stream",
          "text": [
            "Mean: 20.664667\n",
            "Median: 21.000000\n",
            "Max: 46.000000\n"
          ],
          "name": "stdout"
        }
      ]
    },
    {
      "cell_type": "code",
      "metadata": {
        "id": "AuYY4HhQt-WU",
        "colab_type": "code",
        "colab": {
          "base_uri": "https://localhost:8080/",
          "height": 70
        },
        "outputId": "fd370a05-f8e6-4f77-ba97-b0206984dbd9"
      },
      "source": [
        "# Count it for sentence 2\n",
        "\n",
        "count2 = sentence2.apply(lambda x: len(str(x).split()))\n",
        "print('Mean: %f' % (count2.mean()))\n",
        "print('Median: %f' % (count2.median()))\n",
        "print('Max: %f' % (count2.max()))"
      ],
      "execution_count": null,
      "outputs": [
        {
          "output_type": "stream",
          "text": [
            "Mean: 20.661668\n",
            "Median: 20.000000\n",
            "Max: 43.000000\n"
          ],
          "name": "stdout"
        }
      ]
    },
    {
      "cell_type": "code",
      "metadata": {
        "id": "XXnXqHnLuEpr",
        "colab_type": "code",
        "colab": {
          "base_uri": "https://localhost:8080/",
          "height": 34
        },
        "outputId": "0b9d79f1-168b-408b-ecf8-d8d0e7d8fb24"
      },
      "source": [
        "# Bring Keras tokenizer, builds vocabulary and pads sequences\n",
        "\n",
        "Tokenizer = tf.keras.preprocessing.text.Tokenizer\n",
        "pad_sequences = tf.keras.preprocessing.sequence.pad_sequences\n",
        "\n",
        "tokenizer = Tokenizer(num_words=20000)\n",
        "max_len = 32 # Limit sentences to 40 words\n",
        "\n",
        "# Creates vocabulary and gives number of tokens in corpus\n",
        "\n",
        "tokenizer.fit_on_texts(list(sentence1) + list(sentence2))\n",
        "vocab_size = len(tokenizer.word_index)+1 # Because starts counting at 0\n",
        "print(vocab_size)"
      ],
      "execution_count": null,
      "outputs": [
        {
          "output_type": "stream",
          "text": [
            "12430\n"
          ],
          "name": "stdout"
        }
      ]
    },
    {
      "cell_type": "code",
      "metadata": {
        "id": "XuSPJzhruqw-",
        "colab_type": "code",
        "colab": {
          "base_uri": "https://localhost:8080/",
          "height": 105
        },
        "outputId": "4c235e39-b7c1-4ba5-b0e6-1cfd956e20e8"
      },
      "source": [
        "# Converts sentences to sequences of integers\n",
        "# post pad them to max set to 40 \n",
        "\n",
        "encoded_sent1 = tokenizer.texts_to_sequences(sentence1)\n",
        "padded_sent1 = pad_sequences(encoded_sent1, maxlen=max_len, padding='post')\n",
        "\n",
        "encoded_sent2 = tokenizer.texts_to_sequences(sentence2)\n",
        "padded_sent2 = pad_sequences(encoded_sent2, maxlen=max_len, padding='post')\n",
        "\n",
        "# Check\n",
        "print(sentence1[5])\n",
        "print(encoded_sent1[5])\n",
        "print(padded_sent1[5])"
      ],
      "execution_count": null,
      "outputs": [
        {
          "output_type": "stream",
          "text": [
            " The family stopped for lunch at Freshwater Spit   where several children went to the water 's edge to play in the surf shortly after noon   \n",
            "[1, 375, 2039, 11, 5809, 15, 9387, 9388, 155, 243, 376, 503, 3, 1, 531, 9, 5810, 3, 927, 6, 1, 5811, 2255, 43, 3777]\n",
            "[   1  375 2039   11 5809   15 9387 9388  155  243  376  503    3    1\n",
            "  531    9 5810    3  927    6    1 5811 2255   43 3777    0    0    0\n",
            "    0    0    0    0]\n"
          ],
          "name": "stdout"
        }
      ]
    },
    {
      "cell_type": "code",
      "metadata": {
        "id": "A5i4WN0B0UK3",
        "colab_type": "code",
        "colab": {
          "base_uri": "https://localhost:8080/",
          "height": 70
        },
        "outputId": "90ce2ec0-f38b-40fa-8833-59e66d4aa380"
      },
      "source": [
        "val_sentence1 = process_data(df_validation.sentence1.apply(str))\n",
        "val_sentence2 = process_data(df_validation.sentence2.apply(str))\n",
        "val_label = df_validation.label\n",
        "print(len(val_sentence1))\n",
        "print(len(val_sentence2))\n",
        "print(len(val_label))"
      ],
      "execution_count": null,
      "outputs": [
        {
          "output_type": "stream",
          "text": [
            "408\n",
            "408\n",
            "408\n"
          ],
          "name": "stdout"
        }
      ]
    },
    {
      "cell_type": "code",
      "metadata": {
        "id": "2fGSCXkrlo3-",
        "colab_type": "code",
        "colab": {
          "base_uri": "https://localhost:8080/",
          "height": 105
        },
        "outputId": "659fe0e1-f262-40e6-9ed3-403e1bb4c34f"
      },
      "source": [
        "# Converts sentences to sequences of integers for VAL_SET\n",
        "# post pad them to max set to 40 \n",
        "\n",
        "val_encoded_sent1 = tokenizer.texts_to_sequences(val_sentence1)\n",
        "val_padded_sent1 = pad_sequences(val_encoded_sent1, maxlen=max_len, padding='post')\n",
        "\n",
        "val_encoded_sent2 = tokenizer.texts_to_sequences(val_sentence2)\n",
        "val_padded_sent2 = pad_sequences(val_encoded_sent2, maxlen=max_len, padding='post')\n",
        "\n",
        "# Check\n",
        "print(val_sentence1[5])\n",
        "print(val_encoded_sent1[5])\n",
        "print(val_padded_sent1[5])"
      ],
      "execution_count": null,
      "outputs": [
        {
          "output_type": "stream",
          "text": [
            "   There were more people surrounding the clubhouse than the Unabomber  's house up in the hills     Baker said  '\n",
            "[93, 23, 55, 64, 3625, 1, 61, 1, 9, 179, 47, 6, 1, 4837, 4320, 8, 2]\n",
            "[  93   23   55   64 3625    1   61    1    9  179   47    6    1 4837\n",
            " 4320    8    2    0    0    0    0    0    0    0    0    0    0    0\n",
            "    0    0    0    0]\n"
          ],
          "name": "stdout"
        }
      ]
    },
    {
      "cell_type": "code",
      "metadata": {
        "id": "D4bQqwOgwVvF",
        "colab_type": "code",
        "colab": {}
      },
      "source": [
        "# download pretrained GloVe embeddings\n",
        "\n",
        "# !wget http://nlp.stanford.edu/data/glove.6B.zip\n",
        "\n",
        "# !unzip glove.6B.zip"
      ],
      "execution_count": null,
      "outputs": []
    },
    {
      "cell_type": "code",
      "metadata": {
        "id": "zsDt7RQC_b6H",
        "colab_type": "code",
        "colab": {
          "base_uri": "https://localhost:8080/",
          "height": 125
        },
        "outputId": "cad10cf8-803a-4f9e-ec4f-590c8ac4dd8e"
      },
      "source": [
        "# Mount them from drive for quicker performance\n",
        "\n",
        "from google.colab import drive\n",
        "drive.mount('/content/gdrive')"
      ],
      "execution_count": null,
      "outputs": [
        {
          "output_type": "stream",
          "text": [
            "Go to this URL in a browser: https://accounts.google.com/o/oauth2/auth?client_id=947318989803-6bn6qk8qdgf4n4g3pfee6491hc0brc4i.apps.googleusercontent.com&redirect_uri=urn%3aietf%3awg%3aoauth%3a2.0%3aoob&response_type=code&scope=email%20https%3a%2f%2fwww.googleapis.com%2fauth%2fdocs.test%20https%3a%2f%2fwww.googleapis.com%2fauth%2fdrive%20https%3a%2f%2fwww.googleapis.com%2fauth%2fdrive.photos.readonly%20https%3a%2f%2fwww.googleapis.com%2fauth%2fpeopleapi.readonly\n",
            "\n",
            "Enter your authorization code:\n",
            "··········\n",
            "Mounted at /content/gdrive\n"
          ],
          "name": "stdout"
        }
      ]
    },
    {
      "cell_type": "code",
      "metadata": {
        "id": "R-Z8C5Y6_ci9",
        "colab_type": "code",
        "colab": {
          "base_uri": "https://localhost:8080/",
          "height": 34
        },
        "outputId": "e1488023-43eb-49ec-c251-78d8444549be"
      },
      "source": [
        "# lists files\n",
        "\n",
        "!ls \"/content/gdrive/My Drive/Glove/glove.6B.300d.txt\""
      ],
      "execution_count": null,
      "outputs": [
        {
          "output_type": "stream",
          "text": [
            "'/content/gdrive/My Drive/Glove/glove.6B.300d.txt'\n"
          ],
          "name": "stdout"
        }
      ]
    },
    {
      "cell_type": "code",
      "metadata": {
        "id": "OmI49LtL_bq0",
        "colab_type": "code",
        "colab": {
          "base_uri": "https://localhost:8080/",
          "height": 34
        },
        "outputId": "737ebaba-d23c-47e2-d526-b58c9d4e650d"
      },
      "source": [
        "# Creates dictionary of word embeddings\n",
        "\n",
        "glove_dir = './'\n",
        "\n",
        "embeddings_index = {} #initialize dictionary\n",
        "f = open(os.path.join('/content/gdrive/My Drive/Glove/glove.6B.300d.txt'))\n",
        "for line in f:\n",
        "    values = line.split()\n",
        "    word = values[0]\n",
        "    coefs = np.asarray(values[1:], dtype='float32')\n",
        "    embeddings_index[word] = coefs\n",
        "f.close()\n",
        "\n",
        "print('Found %s word vectors.' % len(embeddings_index))"
      ],
      "execution_count": null,
      "outputs": [
        {
          "output_type": "stream",
          "text": [
            "Found 400000 word vectors.\n"
          ],
          "name": "stdout"
        }
      ]
    },
    {
      "cell_type": "code",
      "metadata": {
        "id": "4T4TfUqEymrg",
        "colab_type": "code",
        "colab": {}
      },
      "source": [
        "# Matches words/tokens from vocabulary to their embeddings\n",
        "\n",
        "embedding_dimensions = 300\n",
        "\n",
        "embedding_matrix = np.zeros((vocab_size, embedding_dimensions))\n",
        "\n",
        "for word, i in tokenizer.word_index.items():\n",
        "  embedding_vector = embeddings_index.get(word)\n",
        "  if embedding_vector is not None:\n",
        "    embedding_matrix[i] = embedding_vector   "
      ],
      "execution_count": null,
      "outputs": []
    },
    {
      "cell_type": "code",
      "metadata": {
        "id": "esns6mDezIzS",
        "colab_type": "code",
        "colab": {}
      },
      "source": [
        "# Builds a dict for the two inputs of the Siamese LSTM\n",
        "\n",
        "X_train = {'left': padded_sent1, 'right': padded_sent2}\n",
        "Y_train = label"
      ],
      "execution_count": null,
      "outputs": []
    },
    {
      "cell_type": "code",
      "metadata": {
        "id": "N13VtmkQzT7b",
        "colab_type": "code",
        "colab": {}
      },
      "source": [
        "# Make sure everything is ok\n",
        "# CHECK WHETHER THIS IS NEEDED OR IT CAN BE DIFFERENT LENGHT\n",
        "\n",
        "assert X_train['left'].shape == X_train['right'].shape\n",
        "assert len(X_train['left']) == len(Y_train)"
      ],
      "execution_count": null,
      "outputs": []
    },
    {
      "cell_type": "code",
      "metadata": {
        "id": "KvNejsTr04SR",
        "colab_type": "code",
        "colab": {}
      },
      "source": [
        "# Builds a dict for the two inputs of the Siamese LSTM at validation as well\n",
        "\n",
        "X_val = {'left': val_padded_sent1, 'right': val_padded_sent2}\n",
        "Y_val = val_label"
      ],
      "execution_count": null,
      "outputs": []
    },
    {
      "cell_type": "code",
      "metadata": {
        "id": "vFCqGTYBtfRX",
        "colab_type": "code",
        "colab": {
          "base_uri": "https://localhost:8080/",
          "height": 230
        },
        "outputId": "c7eb5432-8021-4e49-ffd7-c3a87a060818"
      },
      "source": [
        "Y_train"
      ],
      "execution_count": null,
      "outputs": [
        {
          "output_type": "execute_result",
          "data": {
            "text/plain": [
              "0       0\n",
              "1       0\n",
              "2       1\n",
              "3       1\n",
              "4       0\n",
              "       ..\n",
              "3663    0\n",
              "3664    1\n",
              "3665    1\n",
              "3666    0\n",
              "3667    1\n",
              "Name: label, Length: 3668, dtype: int64"
            ]
          },
          "metadata": {
            "tags": []
          },
          "execution_count": 23
        }
      ]
    },
    {
      "cell_type": "code",
      "metadata": {
        "id": "GWQXlIErsnyD",
        "colab_type": "code",
        "colab": {}
      },
      "source": [
        "# Make sure everything is ok\n",
        "# CHECK WHETHER THIS IS NEEDED OR IT CAN BE DIFFERENT LENGHT\n",
        "\n",
        "assert X_val['left'].shape == X_val['right'].shape\n",
        "assert len(X_val['left']) == len(Y_val)"
      ],
      "execution_count": null,
      "outputs": []
    },
    {
      "cell_type": "code",
      "metadata": {
        "id": "1dzZxhdIz1Zo",
        "colab_type": "code",
        "colab": {}
      },
      "source": [
        "# Calculates Manhattan Distance as in Jonas Mueller \n",
        "# https://gist.github.com/GKarmakar/3aa0c643ddb0688a9bfc44b43b84edd8\n",
        "\n",
        "def manhattan_distance(left,right):\n",
        "  return K.exp(-K.sum(K.abs(left-right), axis=1, keepdims=True))"
      ],
      "execution_count": null,
      "outputs": []
    },
    {
      "cell_type": "code",
      "metadata": {
        "id": "TK79dOy-zey3",
        "colab_type": "code",
        "colab": {}
      },
      "source": [
        "# Starts building model Siamese LSTM\n",
        "\n",
        "from tensorflow.python.keras.layers import Input, Embedding, LSTM, GRU, Conv1D, Conv2D, GlobalMaxPool1D, Dense, Dropout\n",
        "from tensorflow.python.keras.models import Model, Sequential\n",
        "from tensorflow.python.keras.layers import Layer, AdditiveAttention"
      ],
      "execution_count": null,
      "outputs": []
    },
    {
      "cell_type": "code",
      "metadata": {
        "id": "hQ5jC5go4O79",
        "colab_type": "code",
        "colab": {}
      },
      "source": [
        "# Defines hidden dimensions of lstm and embedding\n",
        "# From Jonas Mueller: The LSTM learns a mapping from the space of variable length \n",
        "# sequences of 300 dimensional vectors into 50 \n",
        "\n",
        "n_hidden = 100\n",
        "\n",
        "embed = Embedding(vocab_size, embedding_dimensions, weights=[embedding_matrix],input_length=max_len, trainable=False)"
      ],
      "execution_count": null,
      "outputs": []
    },
    {
      "cell_type": "code",
      "metadata": {
        "id": "I1bSS9Y62rdc",
        "colab_type": "code",
        "colab": {
          "base_uri": "https://localhost:8080/",
          "height": 265
        },
        "outputId": "f25bea35-abc2-49da-e5f3-a6737a32e6ec"
      },
      "source": [
        "# Defines LSTM_model and shows it\n",
        "\n",
        "lstm_layer = Sequential()\n",
        "lstm_layer.add(embed)\n",
        "lstm_layer.add(LSTM(n_hidden, dropout=0.2, activation='tanh', recurrent_dropout=0.2))\n",
        "lstm_layer.add(Dense(1, activation='sigmoid'))\n",
        "lstm_layer.summary() "
      ],
      "execution_count": null,
      "outputs": [
        {
          "output_type": "stream",
          "text": [
            "Model: \"sequential\"\n",
            "_________________________________________________________________\n",
            "Layer (type)                 Output Shape              Param #   \n",
            "=================================================================\n",
            "embedding (Embedding)        (None, 32, 300)           3729000   \n",
            "_________________________________________________________________\n",
            "lstm (LSTM)                  (None, 100)               160400    \n",
            "_________________________________________________________________\n",
            "dense (Dense)                (None, 1)                 101       \n",
            "=================================================================\n",
            "Total params: 3,889,501\n",
            "Trainable params: 160,501\n",
            "Non-trainable params: 3,729,000\n",
            "_________________________________________________________________\n"
          ],
          "name": "stdout"
        }
      ]
    },
    {
      "cell_type": "code",
      "metadata": {
        "id": "9e0_DHqd5FHg",
        "colab_type": "code",
        "colab": {}
      },
      "source": [
        "# Defines left and right inputs to the lstm\n",
        "# Input has automatic shape inference\n",
        "\n",
        "left_input = Input(shape=(max_len,), dtype='int32')\n",
        "right_input = Input(shape=(max_len,), dtype='int32')\n",
        "\n",
        "# Output of the lstm\n",
        "\n",
        "left = lstm_layer(left_input)\n",
        "right = lstm_layer(right_input)"
      ],
      "execution_count": null,
      "outputs": []
    },
    {
      "cell_type": "code",
      "metadata": {
        "id": "FoW03cov7Vsq",
        "colab_type": "code",
        "colab": {}
      },
      "source": [
        "# Calculates Manhattan Distance and instantiates the Model\n",
        "# when training the model, the weights of the LSTM layer are updated based on both inputs\n",
        "\n",
        "malstm_distance = manhattan_distance(left=left, right=right)\n",
        "model = Model(inputs = [left_input, right_input], outputs = [malstm_distance])"
      ],
      "execution_count": null,
      "outputs": []
    },
    {
      "cell_type": "code",
      "metadata": {
        "id": "pyyrmUpC8-Df",
        "colab_type": "code",
        "colab": {
          "base_uri": "https://localhost:8080/",
          "height": 478
        },
        "outputId": "e9fd7cf4-11ee-4215-91b9-a2515d1d276f"
      },
      "source": [
        "# Compiles with loss MSE and Adadelta as in Jonas Mueller. Prints summary\n",
        "\n",
        "model.compile(loss=tf.keras.losses.MeanSquaredError(), \n",
        "              optimizer=tf.keras.optimizers.Adam(learning_rate=0.001, clipnorm=1.0), \n",
        "              metrics=['accuracy'])\n",
        "model.summary()"
      ],
      "execution_count": null,
      "outputs": [
        {
          "output_type": "stream",
          "text": [
            "Model: \"functional_1\"\n",
            "__________________________________________________________________________________________________\n",
            "Layer (type)                    Output Shape         Param #     Connected to                     \n",
            "==================================================================================================\n",
            "input_1 (InputLayer)            [(None, 32)]         0                                            \n",
            "__________________________________________________________________________________________________\n",
            "input_2 (InputLayer)            [(None, 32)]         0                                            \n",
            "__________________________________________________________________________________________________\n",
            "sequential (Sequential)         (None, 1)            3889501     input_1[0][0]                    \n",
            "                                                                 input_2[0][0]                    \n",
            "__________________________________________________________________________________________________\n",
            "tf_op_layer_Sub (TensorFlowOpLa [(None, 1)]          0           sequential[0][0]                 \n",
            "                                                                 sequential[1][0]                 \n",
            "__________________________________________________________________________________________________\n",
            "tf_op_layer_Abs (TensorFlowOpLa [(None, 1)]          0           tf_op_layer_Sub[0][0]            \n",
            "__________________________________________________________________________________________________\n",
            "tf_op_layer_Sum (TensorFlowOpLa [(None, 1)]          0           tf_op_layer_Abs[0][0]            \n",
            "__________________________________________________________________________________________________\n",
            "tf_op_layer_Neg (TensorFlowOpLa [(None, 1)]          0           tf_op_layer_Sum[0][0]            \n",
            "__________________________________________________________________________________________________\n",
            "tf_op_layer_Exp (TensorFlowOpLa [(None, 1)]          0           tf_op_layer_Neg[0][0]            \n",
            "==================================================================================================\n",
            "Total params: 3,889,501\n",
            "Trainable params: 160,501\n",
            "Non-trainable params: 3,729,000\n",
            "__________________________________________________________________________________________________\n"
          ],
          "name": "stdout"
        }
      ]
    },
    {
      "cell_type": "code",
      "metadata": {
        "id": "RTUnUhZAiosL",
        "colab_type": "code",
        "colab": {
          "base_uri": "https://localhost:8080/",
          "height": 384
        },
        "outputId": "d4871449-27a4-4ec3-a3d9-0348df116b86"
      },
      "source": [
        "# Plot model graph\n",
        "from keras.utils import plot_model\n",
        "plot_model(model, show_shapes=True, show_layer_names=True, to_file='model.png')\n",
        "from IPython.display import Image\n",
        "Image(retina=True, filename='model.png')"
      ],
      "execution_count": null,
      "outputs": [
        {
          "output_type": "execute_result",
          "data": {
            "image/png": "[encoded data removed]",
            "text/plain": [
              "<IPython.core.display.Image object>"
            ]
          },
          "metadata": {
            "tags": [],
            "image/png": {
              "width": 356,
              "height": 368
            }
          },
          "execution_count": 53
        }
      ]
    },
    {
      "cell_type": "code",
      "metadata": {
        "id": "nCDRRN4B9t0D",
        "colab_type": "code",
        "colab": {}
      },
      "source": [
        "# Early stopping to prevent under/over fitting\n",
        "\n",
        "from tensorflow.keras.callbacks import EarlyStopping\n",
        "\n",
        "earlystop = EarlyStopping(monitor='val_accuracy', min_delta=0, patience=5, verbose=0, mode='auto')"
      ],
      "execution_count": null,
      "outputs": []
    },
    {
      "cell_type": "code",
      "metadata": {
        "id": "ARoSHX4M98_O",
        "colab_type": "code",
        "colab": {
          "base_uri": "https://localhost:8080/",
          "height": 285
        },
        "outputId": "a2bf64e1-b5d0-4908-d0dc-bdb555b84f3b"
      },
      "source": [
        "# start training \n",
        "malstm_trained = model.fit([X_train['left'], X_train['right']], Y_train,\n",
        "                           batch_size=16,\n",
        "                           epochs=10, \n",
        "                           verbose=True, \n",
        "                           validation_split=0.2,\n",
        "                           callbacks=[earlystop])"
      ],
      "execution_count": null,
      "outputs": [
        {
          "output_type": "stream",
          "text": [
            "Epoch 1/10\n",
            "184/184 [==============================] - 58s 318ms/step - loss: 0.2529 - accuracy: 0.6748 - val_loss: 0.2394 - val_accuracy: 0.6826\n",
            "Epoch 2/10\n",
            "184/184 [==============================] - 58s 314ms/step - loss: 0.2388 - accuracy: 0.6817 - val_loss: 0.2329 - val_accuracy: 0.7003\n",
            "Epoch 3/10\n",
            "184/184 [==============================] - 58s 315ms/step - loss: 0.2334 - accuracy: 0.6820 - val_loss: 0.2553 - val_accuracy: 0.6812\n",
            "Epoch 4/10\n",
            "184/184 [==============================] - 59s 320ms/step - loss: 0.2343 - accuracy: 0.6656 - val_loss: 0.2273 - val_accuracy: 0.6798\n",
            "Epoch 5/10\n",
            "184/184 [==============================] - 58s 316ms/step - loss: 0.2281 - accuracy: 0.6793 - val_loss: 0.2201 - val_accuracy: 0.6866\n",
            "Epoch 6/10\n",
            "184/184 [==============================] - 60s 325ms/step - loss: 0.2284 - accuracy: 0.6769 - val_loss: 0.2255 - val_accuracy: 0.6540\n",
            "Epoch 7/10\n",
            "184/184 [==============================] - 58s 314ms/step - loss: 0.2280 - accuracy: 0.6796 - val_loss: 0.2229 - val_accuracy: 0.6962\n"
          ],
          "name": "stdout"
        }
      ]
    },
    {
      "cell_type": "code",
      "metadata": {
        "id": "-1nCjS4NEFSY",
        "colab_type": "code",
        "colab": {}
      },
      "source": [
        "# Uncomment and start again from Sequential to \n",
        "# Reset weights and retrain model\n",
        "\n",
        "K.clear_session()"
      ],
      "execution_count": null,
      "outputs": []
    },
    {
      "cell_type": "code",
      "metadata": {
        "id": "4byCAFZ5q67F",
        "colab_type": "code",
        "colab": {
          "base_uri": "https://localhost:8080/",
          "height": 70
        },
        "outputId": "5dc8d439-e167-4d72-9746-5fe9e073ba7a"
      },
      "source": [
        "print(\"Evaluate on test data\")\n",
        "\n",
        "evaluation = model.evaluate([X_val['left'], X_val['right']], Y_val)\n",
        "\n",
        "print(\"test loss, test acc:\", evaluation)"
      ],
      "execution_count": null,
      "outputs": [
        {
          "output_type": "stream",
          "text": [
            "Evaluate on test data\n",
            "13/13 [==============================] - 0s 34ms/step - loss: 0.2325 - accuracy: 0.6912\n",
            "test loss, test acc: [0.23250164091587067, 0.6911764740943909]\n"
          ],
          "name": "stdout"
        }
      ]
    },
    {
      "cell_type": "code",
      "metadata": {
        "id": "IBLW1OFPzUE0",
        "colab_type": "code",
        "colab": {}
      },
      "source": [
        "# prediction = model.predict([X_val['left'],X_val['right']])\n",
        "# print(prediction)"
      ],
      "execution_count": null,
      "outputs": []
    },
    {
      "cell_type": "code",
      "metadata": {
        "id": "4es50xuFjedk",
        "colab_type": "code",
        "colab": {
          "base_uri": "https://localhost:8080/",
          "height": 34
        },
        "outputId": "c70e1b2d-92a8-4274-9264-63947cf7c19b"
      },
      "source": [
        "max(malstm_trained.history['accuracy'])"
      ],
      "execution_count": null,
      "outputs": [
        {
          "output_type": "execute_result",
          "data": {
            "text/plain": [
              "0.731083869934082"
            ]
          },
          "metadata": {
            "tags": []
          },
          "execution_count": 48
        }
      ]
    },
    {
      "cell_type": "code",
      "metadata": {
        "id": "ee2qH4WgTioc",
        "colab_type": "code",
        "colab": {
          "base_uri": "https://localhost:8080/",
          "height": 194
        },
        "outputId": "f4117287-0a34-4b0d-eeb0-63157f7058f3"
      },
      "source": [
        "# Plot Accuracy\n",
        "\n",
        "plt.subplot(211)\n",
        "plt.plot(malstm_trained.history['accuracy'])\n",
        "plt.plot(malstm_trained.history['val_accuracy'])\n",
        "plt.title('Model Accuracy')\n",
        "plt.ylabel('Accuracy')\n",
        "plt.xlabel('Epoch')\n",
        "plt.legend(['Train', 'Validation'], loc = 'upper left')"
      ],
      "execution_count": null,
      "outputs": [
        {
          "output_type": "execute_result",
          "data": {
            "text/plain": [
              "<matplotlib.legend.Legend at 0x7f8f784fb8d0>"
            ]
          },
          "metadata": {
            "tags": []
          },
          "execution_count": 49
        },
        {
          "output_type": "display_data",
          "data": {
            "image/png": "[encoded data removed]",
            "text/plain": [
              "<Figure size 432x288 with 1 Axes>"
            ]
          },
          "metadata": {
            "tags": [],
            "needs_background": "light"
          }
        }
      ]
    },
    {
      "cell_type": "code",
      "metadata": {
        "id": "5V9J08lf-iaK",
        "colab_type": "code",
        "colab": {}
      },
      "source": [
        "# Run 10 experiments and plot results\n",
        "\n",
        "def make_model():\n",
        "  tf.keras.backend.clear_session() # Starts session from scratch \n",
        "  print('New Experiment')\n",
        "  lstm_layer = Sequential()\n",
        "  lstm_layer.add(embed)\n",
        "  lstm_layer.add(LSTM(n_hidden))  \n",
        "  # lstm_layer.summary() \n",
        "  # Input has automatic shape inference\n",
        "  left_input = Input(shape=(max_len,), dtype='int32')\n",
        "  right_input = Input(shape=(max_len,), dtype='int32')\n",
        "  # Output of the lstm\n",
        "  left = lstm_layer(left_input)\n",
        "  right = lstm_layer(right_input)\n",
        "  # Calculates Manhattan Distance and instantiates the Model\n",
        "  malstm_distance = manhattan_distance(left=left, right=right)\n",
        "  model = Model(inputs = [left_input, right_input], outputs = [malstm_distance])\n",
        "  model.compile(loss=tf.keras.losses.MeanSquaredError(), \n",
        "                optimizer=tf.keras.optimizers.Adam(learning_rate=0.01), \n",
        "                metrics=['accuracy'])\n",
        "  malstm_trained = model.fit([X_train['left'], X_train['right']], Y_train, \n",
        "                             batch_size=16, \n",
        "                             epochs=10, \n",
        "                             verbose=True, \n",
        "                             validation_split=0.2, \n",
        "                             callbacks=[earlystop])\n",
        "  results2 = model.evaluate([X_val['left'], X_val['right']], Y_val)\n",
        "  return results2"
      ],
      "execution_count": null,
      "outputs": []
    },
    {
      "cell_type": "code",
      "metadata": {
        "id": "JgK5TSQWjz8-",
        "colab_type": "code",
        "colab": {
          "base_uri": "https://localhost:8080/",
          "height": 1000
        },
        "outputId": "f1b99cdc-85e1-4ea3-8a42-79077309eae4"
      },
      "source": [
        "colection = [make_model() for _ in range (10)]"
      ],
      "execution_count": null,
      "outputs": [
        {
          "output_type": "stream",
          "text": [
            "Epoch 1/10\n",
            "92/92 [==============================] - 31s 340ms/step - loss: 0.2484 - accuracy: 0.6748 - val_loss: 0.2435 - val_accuracy: 0.6894\n",
            "Epoch 2/10\n",
            "92/92 [==============================] - 31s 338ms/step - loss: 0.2375 - accuracy: 0.6830 - val_loss: 0.2316 - val_accuracy: 0.6839\n",
            "Epoch 3/10\n",
            "92/92 [==============================] - 30s 331ms/step - loss: 0.2372 - accuracy: 0.6779 - val_loss: 0.2362 - val_accuracy: 0.6839\n",
            "Epoch 4/10\n",
            "92/92 [==============================] - 31s 341ms/step - loss: 0.2247 - accuracy: 0.6922 - val_loss: 0.2390 - val_accuracy: 0.6935\n",
            "Epoch 5/10\n",
            "92/92 [==============================] - 32s 343ms/step - loss: 0.2138 - accuracy: 0.7007 - val_loss: 0.2328 - val_accuracy: 0.7016\n",
            "Epoch 6/10\n",
            "92/92 [==============================] - 31s 338ms/step - loss: 0.2044 - accuracy: 0.7113 - val_loss: 0.2422 - val_accuracy: 0.6826\n",
            "Epoch 7/10\n",
            "92/92 [==============================] - 32s 347ms/step - loss: 0.2027 - accuracy: 0.7212 - val_loss: 0.2312 - val_accuracy: 0.6812\n",
            "Epoch 8/10\n",
            "92/92 [==============================] - 31s 337ms/step - loss: 0.2202 - accuracy: 0.7031 - val_loss: 0.2377 - val_accuracy: 0.6894\n",
            "Epoch 9/10\n",
            "92/92 [==============================] - 31s 339ms/step - loss: 0.2122 - accuracy: 0.7007 - val_loss: 0.2188 - val_accuracy: 0.7030\n",
            "Epoch 10/10\n",
            "92/92 [==============================] - 31s 340ms/step - loss: 0.2047 - accuracy: 0.7123 - val_loss: 0.2320 - val_accuracy: 0.6948\n",
            "13/13 [==============================] - 0s 38ms/step - loss: 0.2275 - accuracy: 0.6961\n",
            "Epoch 1/10\n",
            "92/92 [==============================] - 32s 343ms/step - loss: 0.2489 - accuracy: 0.6568 - val_loss: 0.2307 - val_accuracy: 0.6907\n",
            "Epoch 2/10\n",
            "92/92 [==============================] - 31s 335ms/step - loss: 0.2384 - accuracy: 0.6735 - val_loss: 0.2295 - val_accuracy: 0.6689\n",
            "Epoch 3/10\n",
            "92/92 [==============================] - 31s 339ms/step - loss: 0.2400 - accuracy: 0.6568 - val_loss: 0.2384 - val_accuracy: 0.6853\n",
            "Epoch 4/10\n",
            "92/92 [==============================] - 32s 347ms/step - loss: 0.2367 - accuracy: 0.6742 - val_loss: 0.2351 - val_accuracy: 0.6839\n",
            "Epoch 5/10\n",
            "92/92 [==============================] - 31s 333ms/step - loss: 0.2326 - accuracy: 0.6793 - val_loss: 0.2379 - val_accuracy: 0.6948\n",
            "Epoch 6/10\n",
            "92/92 [==============================] - 31s 342ms/step - loss: 0.2289 - accuracy: 0.6776 - val_loss: 0.2294 - val_accuracy: 0.6621\n",
            "Epoch 7/10\n",
            "92/92 [==============================] - 32s 344ms/step - loss: 0.2534 - accuracy: 0.6602 - val_loss: 0.2615 - val_accuracy: 0.6826\n",
            "Epoch 8/10\n",
            "92/92 [==============================] - 31s 338ms/step - loss: 0.2516 - accuracy: 0.6670 - val_loss: 0.2524 - val_accuracy: 0.6730\n",
            "Epoch 9/10\n",
            "92/92 [==============================] - 31s 332ms/step - loss: 0.2437 - accuracy: 0.6653 - val_loss: 0.2469 - val_accuracy: 0.6676\n",
            "Epoch 10/10\n",
            "92/92 [==============================] - 31s 335ms/step - loss: 0.2475 - accuracy: 0.6653 - val_loss: 0.2545 - val_accuracy: 0.6349\n",
            "13/13 [==============================] - 0s 37ms/step - loss: 0.2361 - accuracy: 0.6422\n",
            "Epoch 1/10\n",
            "92/92 [==============================] - 31s 336ms/step - loss: 0.2514 - accuracy: 0.6762 - val_loss: 0.2311 - val_accuracy: 0.6608\n",
            "Epoch 2/10\n",
            "92/92 [==============================] - 32s 347ms/step - loss: 0.2271 - accuracy: 0.6636 - val_loss: 0.2442 - val_accuracy: 0.6812\n",
            "Epoch 3/10\n",
            "92/92 [==============================] - 31s 334ms/step - loss: 0.2367 - accuracy: 0.6694 - val_loss: 0.2427 - val_accuracy: 0.6253\n",
            "Epoch 4/10\n",
            "92/92 [==============================] - 30s 328ms/step - loss: 0.2579 - accuracy: 0.6217 - val_loss: 0.2581 - val_accuracy: 0.6580\n",
            "Epoch 5/10\n",
            "92/92 [==============================] - 31s 335ms/step - loss: 0.2510 - accuracy: 0.6517 - val_loss: 0.2542 - val_accuracy: 0.6826\n",
            "Epoch 6/10\n",
            "92/92 [==============================] - 30s 331ms/step - loss: 0.2526 - accuracy: 0.6377 - val_loss: 0.2577 - val_accuracy: 0.6812\n",
            "Epoch 7/10\n",
            "92/92 [==============================] - 31s 341ms/step - loss: 0.2476 - accuracy: 0.6677 - val_loss: 0.2603 - val_accuracy: 0.6213\n",
            "Epoch 8/10\n",
            "92/92 [==============================] - 31s 340ms/step - loss: 0.2549 - accuracy: 0.6537 - val_loss: 0.2495 - val_accuracy: 0.6730\n",
            "Epoch 9/10\n",
            "92/92 [==============================] - 31s 337ms/step - loss: 0.2526 - accuracy: 0.6609 - val_loss: 0.2754 - val_accuracy: 0.6812\n",
            "Epoch 10/10\n",
            "92/92 [==============================] - 31s 340ms/step - loss: 0.2556 - accuracy: 0.6561 - val_loss: 0.2825 - val_accuracy: 0.6812\n",
            "13/13 [==============================] - 1s 40ms/step - loss: 0.2875 - accuracy: 0.6838\n",
            "Epoch 1/10\n",
            "92/92 [==============================] - 31s 337ms/step - loss: 0.2542 - accuracy: 0.6738 - val_loss: 0.2408 - val_accuracy: 0.6839\n",
            "Epoch 2/10\n",
            "92/92 [==============================] - 31s 337ms/step - loss: 0.2386 - accuracy: 0.6823 - val_loss: 0.2413 - val_accuracy: 0.6962\n",
            "Epoch 3/10\n",
            "92/92 [==============================] - 30s 329ms/step - loss: 0.2274 - accuracy: 0.6892 - val_loss: 0.2286 - val_accuracy: 0.6880\n",
            "Epoch 4/10\n",
            "92/92 [==============================] - 31s 338ms/step - loss: 0.2161 - accuracy: 0.6963 - val_loss: 0.2344 - val_accuracy: 0.6866\n",
            "Epoch 5/10\n",
            "92/92 [==============================] - 31s 335ms/step - loss: 0.2159 - accuracy: 0.7048 - val_loss: 0.2383 - val_accuracy: 0.6935\n",
            "Epoch 6/10\n",
            "92/92 [==============================] - 31s 337ms/step - loss: 0.1999 - accuracy: 0.7290 - val_loss: 0.2316 - val_accuracy: 0.6962\n",
            "Epoch 7/10\n",
            "92/92 [==============================] - 31s 338ms/step - loss: 0.1931 - accuracy: 0.7369 - val_loss: 0.2350 - val_accuracy: 0.7016\n",
            "Epoch 8/10\n",
            "92/92 [==============================] - 31s 339ms/step - loss: 0.1809 - accuracy: 0.7536 - val_loss: 0.2302 - val_accuracy: 0.7057\n",
            "Epoch 9/10\n",
            "92/92 [==============================] - 31s 338ms/step - loss: 0.1742 - accuracy: 0.7621 - val_loss: 0.2335 - val_accuracy: 0.6921\n",
            "Epoch 10/10\n",
            "92/92 [==============================] - 31s 338ms/step - loss: 0.1692 - accuracy: 0.7733 - val_loss: 0.2353 - val_accuracy: 0.6962\n",
            "13/13 [==============================] - 0s 38ms/step - loss: 0.2262 - accuracy: 0.6985\n",
            "Epoch 1/10\n",
            "92/92 [==============================] - 31s 339ms/step - loss: 0.2445 - accuracy: 0.6759 - val_loss: 0.2368 - val_accuracy: 0.6839\n",
            "Epoch 2/10\n",
            "92/92 [==============================] - 30s 329ms/step - loss: 0.2354 - accuracy: 0.6759 - val_loss: 0.2377 - val_accuracy: 0.6880\n",
            "Epoch 3/10\n",
            "92/92 [==============================] - 31s 339ms/step - loss: 0.2304 - accuracy: 0.6837 - val_loss: 0.2318 - val_accuracy: 0.6975\n",
            "Epoch 4/10\n",
            "92/92 [==============================] - 31s 339ms/step - loss: 0.2437 - accuracy: 0.6796 - val_loss: 0.2545 - val_accuracy: 0.6812\n",
            "Epoch 5/10\n",
            "92/92 [==============================] - 31s 337ms/step - loss: 0.2387 - accuracy: 0.6820 - val_loss: 0.2842 - val_accuracy: 0.6853\n",
            "Epoch 6/10\n",
            "92/92 [==============================] - 30s 330ms/step - loss: 0.2276 - accuracy: 0.6929 - val_loss: 0.2457 - val_accuracy: 0.6853\n",
            "Epoch 7/10\n",
            "92/92 [==============================] - 31s 342ms/step - loss: 0.2281 - accuracy: 0.6905 - val_loss: 0.2361 - val_accuracy: 0.6907\n",
            "Epoch 8/10\n",
            "92/92 [==============================] - 31s 338ms/step - loss: 0.2296 - accuracy: 0.6909 - val_loss: 0.2422 - val_accuracy: 0.6935\n",
            "13/13 [==============================] - 1s 43ms/step - loss: 0.2462 - accuracy: 0.6789\n",
            "Epoch 1/10\n",
            "92/92 [==============================] - 31s 337ms/step - loss: 0.2469 - accuracy: 0.6718 - val_loss: 0.2399 - val_accuracy: 0.6853\n",
            "Epoch 2/10\n",
            "92/92 [==============================] - 31s 342ms/step - loss: 0.2359 - accuracy: 0.6769 - val_loss: 0.2402 - val_accuracy: 0.6866\n",
            "Epoch 3/10\n",
            "92/92 [==============================] - 31s 342ms/step - loss: 0.2361 - accuracy: 0.6796 - val_loss: 0.2422 - val_accuracy: 0.6798\n",
            "Epoch 4/10\n",
            "92/92 [==============================] - 31s 334ms/step - loss: 0.2318 - accuracy: 0.6813 - val_loss: 0.2359 - val_accuracy: 0.6880\n",
            "Epoch 5/10\n",
            "92/92 [==============================] - 31s 336ms/step - loss: 0.2235 - accuracy: 0.6861 - val_loss: 0.2351 - val_accuracy: 0.6907\n",
            "Epoch 6/10\n",
            "92/92 [==============================] - 31s 341ms/step - loss: 0.2132 - accuracy: 0.7028 - val_loss: 0.2459 - val_accuracy: 0.6839\n",
            "Epoch 7/10\n",
            "92/92 [==============================] - 32s 343ms/step - loss: 0.2124 - accuracy: 0.7093 - val_loss: 0.2482 - val_accuracy: 0.6935\n",
            "Epoch 8/10\n",
            "92/92 [==============================] - 31s 339ms/step - loss: 0.2039 - accuracy: 0.7195 - val_loss: 0.2325 - val_accuracy: 0.7003\n",
            "Epoch 9/10\n",
            "92/92 [==============================] - 31s 342ms/step - loss: 0.1940 - accuracy: 0.7355 - val_loss: 0.2319 - val_accuracy: 0.6935\n",
            "Epoch 10/10\n",
            "92/92 [==============================] - 31s 335ms/step - loss: 0.1910 - accuracy: 0.7376 - val_loss: 0.2470 - val_accuracy: 0.6948\n",
            "13/13 [==============================] - 1s 42ms/step - loss: 0.2467 - accuracy: 0.6814\n",
            "Epoch 1/10\n",
            "92/92 [==============================] - 31s 342ms/step - loss: 0.2490 - accuracy: 0.6772 - val_loss: 0.2445 - val_accuracy: 0.6812\n",
            "Epoch 2/10\n",
            "92/92 [==============================] - 31s 333ms/step - loss: 0.2348 - accuracy: 0.6708 - val_loss: 0.2370 - val_accuracy: 0.6499\n",
            "Epoch 3/10\n",
            "92/92 [==============================] - 30s 327ms/step - loss: 0.2371 - accuracy: 0.6602 - val_loss: 0.2322 - val_accuracy: 0.6376\n",
            "Epoch 4/10\n",
            "92/92 [==============================] - 31s 333ms/step - loss: 0.2361 - accuracy: 0.6595 - val_loss: 0.2314 - val_accuracy: 0.6935\n",
            "Epoch 5/10\n",
            "92/92 [==============================] - 31s 340ms/step - loss: 0.2333 - accuracy: 0.6469 - val_loss: 0.2371 - val_accuracy: 0.6458\n",
            "Epoch 6/10\n",
            "92/92 [==============================] - 31s 337ms/step - loss: 0.2432 - accuracy: 0.6302 - val_loss: 0.2371 - val_accuracy: 0.6417\n",
            "Epoch 7/10\n",
            "92/92 [==============================] - 32s 345ms/step - loss: 0.2376 - accuracy: 0.6673 - val_loss: 0.2433 - val_accuracy: 0.6812\n",
            "Epoch 8/10\n",
            "92/92 [==============================] - 31s 336ms/step - loss: 0.2311 - accuracy: 0.6759 - val_loss: 0.2380 - val_accuracy: 0.6880\n",
            "Epoch 9/10\n",
            "92/92 [==============================] - 31s 339ms/step - loss: 0.2250 - accuracy: 0.6806 - val_loss: 0.2481 - val_accuracy: 0.6104\n",
            "13/13 [==============================] - 1s 40ms/step - loss: 0.2397 - accuracy: 0.6127\n",
            "Epoch 1/10\n",
            "92/92 [==============================] - 32s 351ms/step - loss: 0.2570 - accuracy: 0.6755 - val_loss: 0.2362 - val_accuracy: 0.6839\n",
            "Epoch 2/10\n",
            "92/92 [==============================] - 32s 345ms/step - loss: 0.2488 - accuracy: 0.6745 - val_loss: 0.2385 - val_accuracy: 0.6826\n",
            "Epoch 3/10\n",
            "92/92 [==============================] - 31s 334ms/step - loss: 0.2372 - accuracy: 0.6783 - val_loss: 0.2370 - val_accuracy: 0.6798\n",
            "Epoch 4/10\n",
            "92/92 [==============================] - 32s 343ms/step - loss: 0.2295 - accuracy: 0.6875 - val_loss: 0.2476 - val_accuracy: 0.6826\n",
            "Epoch 5/10\n",
            "92/92 [==============================] - 32s 349ms/step - loss: 0.2230 - accuracy: 0.6875 - val_loss: 0.2469 - val_accuracy: 0.6812\n",
            "Epoch 6/10\n",
            "92/92 [==============================] - 31s 334ms/step - loss: 0.2161 - accuracy: 0.7001 - val_loss: 0.2409 - val_accuracy: 0.6921\n",
            "Epoch 7/10\n",
            "92/92 [==============================] - 31s 339ms/step - loss: 0.2097 - accuracy: 0.7018 - val_loss: 0.2339 - val_accuracy: 0.6962\n",
            "Epoch 8/10\n",
            "92/92 [==============================] - 31s 332ms/step - loss: 0.2029 - accuracy: 0.7168 - val_loss: 0.2401 - val_accuracy: 0.6853\n",
            "Epoch 9/10\n",
            "92/92 [==============================] - 31s 332ms/step - loss: 0.1933 - accuracy: 0.7389 - val_loss: 0.2413 - val_accuracy: 0.6907\n",
            "Epoch 10/10\n",
            "92/92 [==============================] - 32s 351ms/step - loss: 0.1916 - accuracy: 0.7338 - val_loss: 0.2371 - val_accuracy: 0.6921\n",
            "13/13 [==============================] - 1s 40ms/step - loss: 0.2387 - accuracy: 0.6838\n",
            "Epoch 1/10\n",
            "92/92 [==============================] - 32s 353ms/step - loss: 0.2498 - accuracy: 0.6725 - val_loss: 0.2517 - val_accuracy: 0.6826\n",
            "Epoch 2/10\n",
            "92/92 [==============================] - 31s 337ms/step - loss: 0.2397 - accuracy: 0.6745 - val_loss: 0.2402 - val_accuracy: 0.6812\n",
            "Epoch 3/10\n",
            "92/92 [==============================] - 31s 333ms/step - loss: 0.2342 - accuracy: 0.6748 - val_loss: 0.2368 - val_accuracy: 0.6866\n",
            "Epoch 4/10\n",
            "92/92 [==============================] - 30s 330ms/step - loss: 0.2293 - accuracy: 0.6834 - val_loss: 0.2346 - val_accuracy: 0.6853\n",
            "Epoch 5/10\n",
            "92/92 [==============================] - 30s 327ms/step - loss: 0.2494 - accuracy: 0.6806 - val_loss: 0.2575 - val_accuracy: 0.6839\n",
            "Epoch 6/10\n",
            "92/92 [==============================] - 31s 333ms/step - loss: 0.2426 - accuracy: 0.6789 - val_loss: 0.2494 - val_accuracy: 0.6894\n",
            "Epoch 7/10\n",
            "92/92 [==============================] - 32s 352ms/step - loss: 0.2293 - accuracy: 0.6861 - val_loss: 0.2453 - val_accuracy: 0.6866\n",
            "Epoch 8/10\n",
            "92/92 [==============================] - 31s 336ms/step - loss: 0.2172 - accuracy: 0.6987 - val_loss: 0.2427 - val_accuracy: 0.6894\n",
            "Epoch 9/10\n",
            "92/92 [==============================] - 32s 347ms/step - loss: 0.2209 - accuracy: 0.6963 - val_loss: 0.2381 - val_accuracy: 0.6989\n",
            "Epoch 10/10\n",
            "92/92 [==============================] - 31s 341ms/step - loss: 0.2086 - accuracy: 0.7154 - val_loss: 0.2277 - val_accuracy: 0.7044\n",
            "13/13 [==============================] - 0s 37ms/step - loss: 0.2392 - accuracy: 0.6936\n",
            "Epoch 1/10\n",
            "92/92 [==============================] - 32s 347ms/step - loss: 0.2575 - accuracy: 0.6673 - val_loss: 0.2491 - val_accuracy: 0.6798\n",
            "Epoch 2/10\n",
            "92/92 [==============================] - 30s 331ms/step - loss: 0.2476 - accuracy: 0.6731 - val_loss: 0.2371 - val_accuracy: 0.6812\n",
            "Epoch 3/10\n",
            "92/92 [==============================] - 31s 336ms/step - loss: 0.2417 - accuracy: 0.6796 - val_loss: 0.2412 - val_accuracy: 0.6962\n",
            "Epoch 4/10\n",
            "92/92 [==============================] - 31s 342ms/step - loss: 0.2391 - accuracy: 0.6789 - val_loss: 0.2383 - val_accuracy: 0.6894\n",
            "Epoch 5/10\n",
            "92/92 [==============================] - 31s 336ms/step - loss: 0.2355 - accuracy: 0.6793 - val_loss: 0.2420 - val_accuracy: 0.6880\n",
            "Epoch 6/10\n",
            "92/92 [==============================] - 31s 336ms/step - loss: 0.2290 - accuracy: 0.6895 - val_loss: 0.2270 - val_accuracy: 0.6894\n",
            "Epoch 7/10\n",
            "92/92 [==============================] - 32s 352ms/step - loss: 0.2336 - accuracy: 0.6748 - val_loss: 0.2443 - val_accuracy: 0.6458\n",
            "Epoch 8/10\n",
            "92/92 [==============================] - 31s 339ms/step - loss: 0.2378 - accuracy: 0.6667 - val_loss: 0.2372 - val_accuracy: 0.6485\n",
            "13/13 [==============================] - 1s 44ms/step - loss: 0.2418 - accuracy: 0.6422\n"
          ],
          "name": "stdout"
        }
      ]
    },
    {
      "cell_type": "code",
      "metadata": {
        "id": "bI4psO4_m2iW",
        "colab_type": "code",
        "colab": {
          "base_uri": "https://localhost:8080/",
          "height": 194
        },
        "outputId": "84c845ca-3b9d-43c1-d813-c9a5d983a111"
      },
      "source": [
        "colection"
      ],
      "execution_count": null,
      "outputs": [
        {
          "output_type": "execute_result",
          "data": {
            "text/plain": [
              "[[0.22748184204101562, 0.6960784196853638],\n",
              " [0.23606981337070465, 0.6421568393707275],\n",
              " [0.28750079870224, 0.6838235259056091],\n",
              " [0.22617173194885254, 0.6985294222831726],\n",
              " [0.2461692988872528, 0.6789215803146362],\n",
              " [0.2467241734266281, 0.6813725233078003],\n",
              " [0.23974765837192535, 0.6127451062202454],\n",
              " [0.23867987096309662, 0.6838235259056091],\n",
              " [0.23916195333003998, 0.6936274766921997],\n",
              " [0.2417765110731125, 0.6421568393707275]]"
            ]
          },
          "metadata": {
            "tags": []
          },
          "execution_count": 53
        }
      ]
    },
    {
      "cell_type": "code",
      "metadata": {
        "id": "5awLuQbLz4d_",
        "colab_type": "code",
        "colab": {}
      },
      "source": [
        "\n",
        "x = []\n",
        "for i in range (len(colection)):\n",
        "  x.append(colection[i][1])"
      ],
      "execution_count": null,
      "outputs": []
    },
    {
      "cell_type": "code",
      "metadata": {
        "id": "U21nkoYw0ToA",
        "colab_type": "code",
        "colab": {
          "base_uri": "https://localhost:8080/",
          "height": 194
        },
        "outputId": "06956877-4405-404a-9429-a807b1e131e2"
      },
      "source": [
        "x"
      ],
      "execution_count": null,
      "outputs": [
        {
          "output_type": "execute_result",
          "data": {
            "text/plain": [
              "[0.6960784196853638,\n",
              " 0.6421568393707275,\n",
              " 0.6838235259056091,\n",
              " 0.6985294222831726,\n",
              " 0.6789215803146362,\n",
              " 0.6813725233078003,\n",
              " 0.6127451062202454,\n",
              " 0.6838235259056091,\n",
              " 0.6936274766921997,\n",
              " 0.6421568393707275]"
            ]
          },
          "metadata": {
            "tags": []
          },
          "execution_count": 68
        }
      ]
    },
    {
      "cell_type": "code",
      "metadata": {
        "id": "QgOUmFcV1Fqz",
        "colab_type": "code",
        "colab": {
          "base_uri": "https://localhost:8080/",
          "height": 34
        },
        "outputId": "216d7980-3e04-4b01-bd00-af09f2e37f10"
      },
      "source": [
        "import statistics\n",
        "median_value = statistics.median(x)\n",
        "median_value"
      ],
      "execution_count": null,
      "outputs": [
        {
          "output_type": "execute_result",
          "data": {
            "text/plain": [
              "0.6825980246067047"
            ]
          },
          "metadata": {
            "tags": []
          },
          "execution_count": 70
        }
      ]
    },
    {
      "cell_type": "code",
      "metadata": {
        "id": "6Plvnct12V5I",
        "colab_type": "code",
        "colab": {}
      },
      "source": [
        "import seaborn as sns\n",
        "sns.set(style=\"whitegrid\", palette=\"pastel\")"
      ],
      "execution_count": null,
      "outputs": []
    },
    {
      "cell_type": "code",
      "metadata": {
        "id": "uDdWB_uj2Vw_",
        "colab_type": "code",
        "colab": {
          "base_uri": "https://localhost:8080/",
          "height": 302
        },
        "outputId": "7bd5bde4-688e-4770-fcc6-53114848c013"
      },
      "source": [
        "ax = sns.boxplot(data=x, width=0.2)\n",
        "\n",
        "ax.set_title(\"Pearson Correlation over 10 runs\")\n",
        "ax.set_ylabel('Pearson Correlation ')"
      ],
      "execution_count": null,
      "outputs": [
        {
          "output_type": "execute_result",
          "data": {
            "text/plain": [
              "Text(0, 0.5, 'Accuracy')"
            ]
          },
          "metadata": {
            "tags": []
          },
          "execution_count": 92
        },
        {
          "output_type": "display_data",
          "data": {
            "image/png": "[encoded data removed]",
            "text/plain": [
              "<Figure size 432x288 with 1 Axes>"
            ]
          },
          "metadata": {
            "tags": []
          }
        }
      ]
    },
    {
      "cell_type": "code",
      "metadata": {
        "id": "NXU6lONc2Vt3",
        "colab_type": "code",
        "colab": {}
      },
      "source": [
        ""
      ],
      "execution_count": null,
      "outputs": []
    }
  ]
}